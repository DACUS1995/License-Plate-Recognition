{
 "cells": [
  {
   "cell_type": "code",
   "execution_count": 1,
   "metadata": {},
   "outputs": [],
   "source": [
    "import torch\n",
    "import torch.nn as nn\n",
    "import torch.nn.functional as F\n",
    "import torch.optim as optim\n",
    "from torch.optim.lr_scheduler import StepLR\n",
    "from torch.utils.tensorboard import SummaryWriter\n",
    "import torchvision\n",
    "from torchvision import datasets, models, transforms as T\n",
    "from torch.utils.data.dataset import Dataset\n",
    "from torch.utils.data import DataLoader"
   ]
  },
  {
   "cell_type": "code",
   "execution_count": 2,
   "metadata": {},
   "outputs": [
    {
     "output_type": "stream",
     "name": "stdout",
     "text": [
      "Running training on [cuda]\n"
     ]
    }
   ],
   "source": [
    "from tqdm.notebook import tqdm\n",
    "import pathlib\n",
    "import os\n",
    "from PIL import Image\n",
    "import string\n",
    "from typing import Tuple\n",
    "import datetime\n",
    "import copy\n",
    "import time\n",
    "import numpy as np\n",
    "from IPython.core.interactiveshell import InteractiveShell\n",
    "InteractiveShell.ast_node_interactivity = \"all\"\n",
    "%matplotlib inline\n",
    "\n",
    "device = torch.device(\"cuda\" if torch.cuda.is_available() else \"cpu\")\n",
    "# device = torch.device(\"cpu\")\n",
    "print(f\"Running training on [{device}]\")"
   ]
  },
  {
   "cell_type": "code",
   "execution_count": 3,
   "metadata": {},
   "outputs": [],
   "source": [
    "BATCH_SIZE = 64\n",
    "WORKERS = 1\n",
    "EPOCHS = 80\n",
    "MAX_WORD_LENGTH = 10\n",
    "ALPHABET = string.ascii_letters + string.digits + \"_\" #blank char for CTC\n",
    "OUTPUT_SEQUENCE_LENGTH = 10\n",
    "OUTPUT_STEP_SIZE = 2"
   ]
  },
  {
   "cell_type": "code",
   "execution_count": 4,
   "metadata": {},
   "outputs": [],
   "source": [
    "class CustomDataset(Dataset):\n",
    "\tdef __init__(self, root_path, type=\"train\"):\n",
    "\t\tself.root_path = root_path\n",
    "\t\tself.type = type\n",
    "\t\tself.images_paths = list(pathlib.Path(self.root_path + \"./images\").glob('*.png'))\n",
    "\t\tself.transforms = {\n",
    "\t\t\t'train' : T.Compose([\n",
    "\t\t\t\t# T.Resize((40,200)),\n",
    "\t\t\t\tT.RandomRotation(20),\n",
    "\t\t\t\tT.GaussianBlur(3),\n",
    "\t\t\t\tT.ToTensor()\n",
    "\t\t\t]),\n",
    "\t\t\t'valid' : T.Compose([\n",
    "\t\t\t\tT.ToTensor()\n",
    "\t\t\t])\n",
    "\t\t}\n",
    "\t\tglobal ALPHABET\n",
    "\t\tself.alphabet = ALPHABET\n",
    "\t\tself.alphabet_size = len(self.alphabet)\n",
    "\t\tprint(f\"Alphabet size: {self.alphabet_size}\")\n",
    "\n",
    "\tdef __getitem__(self, idx):\n",
    "\t\timage_path = self.images_paths[idx]\n",
    "\t\tsample_name = str(image_path).split(os.sep)[-1].split(\".\")[0]\n",
    "\t\ttext_path = self.root_path + \"/transcripts/\" + str(int(sample_name) + 1) + \".txt\"\n",
    "\n",
    "\t\timage = Image.open(image_path).convert(\"RGB\")\n",
    "\t\twith open(text_path) as f:\n",
    "\t\t\ttext = f.read()\n",
    "\n",
    "\t\timage = self.transforms[self.type](image)\n",
    "\t\ttext_tensor = self.wordToTensor(text)\n",
    "\t\treturn image, (text_tensor, len(text), text)\n",
    "\t\t\n",
    "\n",
    "\tdef __len__(self):\n",
    "\t\treturn len(self.images_paths)\n",
    "\n",
    "\tdef letterToIndex(self, letter):\n",
    "\t\treturn self.alphabet.find(letter)\n",
    "\n",
    "\tdef letterToTensor(self, letter):\n",
    "\t\ttensor = torch.zeros(1, n_letters)\n",
    "\t\ttensor[0][letterToIndex(letter)] = 1\n",
    "\t\treturn tensor\n",
    "\n",
    "\tdef wordToTensor(self, word):\n",
    "\t\ttensor = torch.zeros(MAX_WORD_LENGTH, self.alphabet_size)\n",
    "\t\t# for li, letter in enumerate(word):\n",
    "\t\t# \ttensor[li][self.letterToIndex(letter)] = 1\n",
    "\n",
    "\t\ttensor = torch.full((MAX_WORD_LENGTH,), len(ALPHABET) - 1)\n",
    "\t\t# tensor = torch.zeros(MAX_WORD_LENGTH)\n",
    "\t\tfor li, letter in enumerate(word):\n",
    "\t\t\ttensor[li] = self.letterToIndex(letter)\n",
    "\t\treturn tensor\n"
   ]
  },
  {
   "cell_type": "code",
   "execution_count": 5,
   "metadata": {},
   "outputs": [],
   "source": [
    "class DataHandler:\n",
    "\tdef __init__(self, run_config):\n",
    "\t\tself._training_dataset = None\n",
    "\t\tself._validation_dataset = None\n",
    "\t\tself._run_config = run_config\n",
    "\n",
    "\t\tself._load_datasets()\n",
    "\t\t\n",
    "\tdef _load_datasets(self):\n",
    "\t\tself._training_dataset = CustomDataset(\"dataset/training\")\n",
    "\t\tself._validation_dataset = CustomDataset(\"dataset/validation\")\n",
    "\n",
    "\tdef get_data_loaders(self) -> Tuple[DataLoader]:\n",
    "\t\treturn (\n",
    "\t\t\tDataLoader(self._training_dataset, batch_size=self._run_config[\"batch_size\"], shuffle=True, pin_memory=True, drop_last=True), \n",
    "\t\t\tDataLoader(self._validation_dataset, batch_size=self._run_config[\"batch_size\"], shuffle=False, pin_memory=True, drop_last=True)\n",
    "\t\t)\n",
    "\n",
    "\tdef get_datasets(self) -> Tuple[Dataset]:\n",
    "\t\treturn self._training_dataset, self._validation_dataset\n",
    "\n",
    "\tdef get_datasets_sizes(self) -> Tuple[int]:\n",
    "\t\treturn len(self._training_dataset), len(self._validation_dataset)"
   ]
  },
  {
   "cell_type": "code",
   "execution_count": 6,
   "metadata": {},
   "outputs": [
    {
     "output_type": "stream",
     "name": "stdout",
     "text": [
      "Alphabet size: 63\nAlphabet size: 63\n"
     ]
    }
   ],
   "source": [
    "data_handler = DataHandler(run_config = {\n",
    "    \"batch_size\": BATCH_SIZE,\n",
    "    \"workers\": WORKERS\n",
    "})\n",
    "train_loader, validation_loader = data_handler.get_data_loaders()\n",
    "training_dataset_size, validation_dataset_size = data_handler.get_datasets_sizes()"
   ]
  },
  {
   "cell_type": "code",
   "execution_count": 7,
   "metadata": {},
   "outputs": [],
   "source": [
    "class TranscribeModel(nn.Module):\n",
    "    def __init__(self):\n",
    "        super(TranscribeModel, self).__init__()\n",
    "        self.conv_block1 = nn.Sequential(\n",
    "\t\t\tnn.Conv2d(in_channels=3, out_channels=16, kernel_size=3, padding=1),\n",
    "\t\t\tnn.MaxPool2d(kernel_size=(2, 2)),\n",
    "\t\t\tnn.BatchNorm2d(16),\n",
    "\t\t\tnn.LeakyReLU(0.2, inplace=True),\n",
    "\n",
    "\t\t\tnn.Conv2d(in_channels=16, out_channels=32, kernel_size=3, padding=1),\n",
    "\t\t\tnn.MaxPool2d(kernel_size=(2, 2)),\n",
    "\t\t\tnn.BatchNorm2d(32),\n",
    "\t\t\tnn.LeakyReLU(0.2, inplace=True),\n",
    "\n",
    "            nn.Conv2d(in_channels=32, out_channels=64, kernel_size=3, padding=1),\n",
    "\t\t\tnn.MaxPool2d(kernel_size=(2, 2)),\n",
    "\t\t\tnn.BatchNorm2d(64),\n",
    "\t\t\tnn.LeakyReLU(0.2, inplace=True)\n",
    "\t\t)\n",
    "        \n",
    "        self.linear_block1 = nn.Sequential(\n",
    "            nn.Linear(1536, 512),\n",
    "            nn.LeakyReLU(0.2, inplace=True),\n",
    "            nn.Linear(512, 512),\n",
    "            nn.LeakyReLU(0.2, inplace=True),\n",
    "            nn.Linear(512, 630),\n",
    "        )\n",
    "\n",
    "        # self.rnn_block1 = nn.Sequential(\n",
    "        #     nn.LSTM(input_size=OUTPUT_STEP_SIZE * 64, hidden_size=len(ALPHABET), num_layers=2, batch_first=True, bidirectional=True)\n",
    "        # )\n",
    "\n",
    "        self.softmax = nn.LogSoftmax(dim=2)\n",
    "\n",
    "    def forward(self, input):\n",
    "        out = self.conv_block1(input)\n",
    "        # print(out.shape) #[128, 32, 10, 50]\n",
    "        # out = out.permute([0, 3, 2, 1])\n",
    "        # (B, S, ) \n",
    "        # out = out.reshape(out.size(0), out.size(1), -1)\n",
    "\n",
    "        # out, (_, _) = self.rnn_block1(out)\n",
    "\n",
    "        out = self.linear_block1(out.view(BATCH_SIZE, -1))\n",
    "        out = out.view(BATCH_SIZE, 10, len(ALPHABET))\n",
    "        out = self.softmax(out)\n",
    "        \n",
    "        return out"
   ]
  },
  {
   "cell_type": "code",
   "execution_count": 8,
   "metadata": {},
   "outputs": [
    {
     "output_type": "execute_result",
     "data": {
      "text/plain": [
       "TranscribeModel(\n",
       "  (conv_block1): Sequential(\n",
       "    (0): Conv2d(3, 16, kernel_size=(3, 3), stride=(1, 1), padding=(1, 1))\n",
       "    (1): MaxPool2d(kernel_size=(2, 2), stride=(2, 2), padding=0, dilation=1, ceil_mode=False)\n",
       "    (2): BatchNorm2d(16, eps=1e-05, momentum=0.1, affine=True, track_running_stats=True)\n",
       "    (3): LeakyReLU(negative_slope=0.2, inplace=True)\n",
       "    (4): Conv2d(16, 32, kernel_size=(3, 3), stride=(1, 1), padding=(1, 1))\n",
       "    (5): MaxPool2d(kernel_size=(2, 2), stride=(2, 2), padding=0, dilation=1, ceil_mode=False)\n",
       "    (6): BatchNorm2d(32, eps=1e-05, momentum=0.1, affine=True, track_running_stats=True)\n",
       "    (7): LeakyReLU(negative_slope=0.2, inplace=True)\n",
       "    (8): Conv2d(32, 64, kernel_size=(3, 3), stride=(1, 1), padding=(1, 1))\n",
       "    (9): MaxPool2d(kernel_size=(2, 2), stride=(2, 2), padding=0, dilation=1, ceil_mode=False)\n",
       "    (10): BatchNorm2d(64, eps=1e-05, momentum=0.1, affine=True, track_running_stats=True)\n",
       "    (11): LeakyReLU(negative_slope=0.2, inplace=True)\n",
       "  )\n",
       "  (linear_block1): Sequential(\n",
       "    (0): Linear(in_features=1536, out_features=512, bias=True)\n",
       "    (1): LeakyReLU(negative_slope=0.2, inplace=True)\n",
       "    (2): Linear(in_features=512, out_features=512, bias=True)\n",
       "    (3): LeakyReLU(negative_slope=0.2, inplace=True)\n",
       "    (4): Linear(in_features=512, out_features=630, bias=True)\n",
       "  )\n",
       "  (softmax): LogSoftmax(dim=2)\n",
       ")"
      ]
     },
     "metadata": {},
     "execution_count": 8
    }
   ],
   "source": [
    "model = TranscribeModel()\n",
    "model.to(device)\n",
    "optimizer = optim.AdamW(\n",
    "    model.parameters(), \n",
    "    lr=0.0001, \n",
    "    betas=(0.9, 0.999), \n",
    "    eps=1e-08, \n",
    "    weight_decay=1e-4\n",
    ")\n",
    "# scheduler = torch.optim.lr_scheduler.ReduceLROnPlateau(optimizer, mode='max', factor=0.5, patience=2)\n",
    "# loss_criterion = nn.CTCLoss(blank=len(ALPHABET)-1, zero_infinity=False, reduction=\"mean\")\n",
    "loss_criterion = nn.NLLLoss()\n",
    "scheduler = torch.optim.lr_scheduler.OneCycleLR(optimizer, max_lr=0.001, steps_per_epoch=10, epochs=EPOCHS, anneal_strategy='linear')\n",
    "\n",
    "log_dir = \"logs/\" + datetime.datetime.now().strftime(\"%Y%m%d-%H%M%S\")\n",
    "writer = SummaryWriter(log_dir)"
   ]
  },
  {
   "cell_type": "code",
   "execution_count": 9,
   "metadata": {},
   "outputs": [],
   "source": [
    "def tensorToWord(tensor):\n",
    "\t# tensor = tensor[..., :63]\n",
    "\ttensor = tensor.permute([1, 0, 2])\n",
    "\tindices = torch.argmax(tensor, dim=2).tolist()\n",
    "\t\n",
    "\twords = []\n",
    "\tfor batch_idx in range(BATCH_SIZE):\n",
    "\t\tcur_word_indices = indices[batch_idx]\n",
    "\t\tcur_word = []\n",
    "\t\tlast_letter = None\n",
    "\t\tfor idx in range(OUTPUT_SEQUENCE_LENGTH):\n",
    "\t\t\tif ALPHABET[cur_word_indices[idx]] == ALPHABET[-1]:\n",
    "\t\t\t\tlast_letter = None\n",
    "\t\t\t\tcontinue\n",
    "\t\t\telse:\n",
    "\t\t\t\tif last_letter == None or (last_letter is not None and last_letter != cur_word_indices[idx]):\n",
    "\t\t\t\t\tcur_word.append(ALPHABET[cur_word_indices[idx]])\n",
    "\t\t\t\t\tlast_letter = cur_word_indices[idx]\n",
    "\t\t\t\t\tcontinue\n",
    "\t\twords.append(\"\".join(cur_word))\n",
    "\treturn words\n",
    "\n",
    "def tensorToWordSync(tensor):\n",
    "\tindices = torch.argmax(tensor, dim=2).tolist()\n",
    "\t\n",
    "\twords = []\n",
    "\tfor batch_idx in range(BATCH_SIZE):\n",
    "\t\tcur_word_indices = indices[batch_idx]\n",
    "\t\tcur_word = []\n",
    "\t\tlast_letter = None\n",
    "\t\tfor idx in range(OUTPUT_SEQUENCE_LENGTH):\n",
    "\t\t\tcur_word.append(ALPHABET[cur_word_indices[idx]])\n",
    "\n",
    "\t\twords.append(\"\".join(cur_word))\n",
    "\treturn words\n"
   ]
  },
  {
   "cell_type": "code",
   "execution_count": 10,
   "metadata": {},
   "outputs": [],
   "source": [
    "def levenshteinDistance(string_one, string_two):\n",
    "    dist = np.zeros((len(string_one) + 1, len(string_two) + 1))\n",
    "    dist[1:, 0] = [i + 1 for i in range(len(string_one))]\n",
    "    dist[0, 1:] = [i + 1 for i in range(len(string_two))]\n",
    "\n",
    "    for row in range(1, len(string_one) + 1):\n",
    "        for col in range(1, len(string_two) + 1):\n",
    "            gain = 1\n",
    "            if string_one[row - 1] == string_two[col -1]:\n",
    "                dist[row, col] = dist[row - 1, col -1]\n",
    "            else:\n",
    "                dist[row, col] = gain + min(dist[row - 1, col], dist[row, col - 1], dist[row - 1, col - 1])\n",
    "    \n",
    "    return dist[-1,-1]\n",
    "\n",
    "def batchLevenshteinDistance(arr_one, arr_two):\n",
    "    cumulative_distance = 0\n",
    "    for idx in range(len(arr_one)):\n",
    "        cumulative_distance += levenshteinDistance(arr_one[idx], arr_two[idx])\n",
    "    return cumulative_distance\n"
   ]
  },
  {
   "cell_type": "code",
   "execution_count": 14,
   "metadata": {},
   "outputs": [
    {
     "output_type": "stream",
     "name": "stdout",
     "text": [
      "tensor([ 3,  9,  1,  3,  3,  2,  5,  6,  4,  2,  6,  6,  3,  6,  1,  8,  4,  9,\n         8,  8, 10,  8,  5,  8,  3,  2,  8,  4,  8,  7,  9,  8,  3,  3,  8,  6,\n         3,  3,  3,  8, 10,  5, 10,  9,  5,  2,  3,  8,  4,  7,  5, 10,  8,  1,\n         4,  8,  4,  1,  5,  6,  4,  4,  8, 10])\n"
     ]
    }
   ],
   "source": [
    "image, (label_tensor, text_length, label_text) = iter(train_loader).next()\n",
    "image, label_tensor = image.to(device), label_tensor.to(device)\n",
    "output = model(image)\n",
    "print(text_length)"
   ]
  },
  {
   "cell_type": "code",
   "execution_count": 15,
   "metadata": {},
   "outputs": [
    {
     "output_type": "execute_result",
     "data": {
      "text/plain": [
       "torch.Size([64, 10, 63])"
      ]
     },
     "metadata": {},
     "execution_count": 15
    },
    {
     "output_type": "stream",
     "name": "stdout",
     "text": [
      ">>>>>>> label_text <<<<<<<\n['6YL', '1MSmih6GQ', '6', 'G0u', 'BOJ', 'h4', '8CYvi', 'TrlbCt', 'Kt8R', 'Tr', 'EjQuN0', 'IvCyX4', 'xGX', 'exRmBS', 'V', 'kmPjUqCs', 'k0Rv', 'gMC7h0arM', 'cYYGlZ5z', 'BfuVSgcs', 'eDSKiUPTId', 'd6QUDliC', 'Rjp38', 'KBlMo24w', '2X0', 'Bt', 'jDqlAcFa', 'H10I', '3kG9ka0x', 'FZQxsP1', 'NofSYW57z', 'QlaxDyzE', 'PuK', 'M03', 'FDlvgah2', 'KPBdzN', 'xZf', 'hJJ', 'ONv', 'PSEoivGK', 'v5bN4D6oy7', 'D9Hji', 'Nqo2FRH6P0', 'lNW9VjE8K', 'CDNEp', '19', 'mIT', 'Q6m4El0F', 'hoIM', 'tVjIWrT', 'd3whZ', 'K9vGpOgAgV', 'nP6JXyI3', '4', 'aqbi', 'VxJI8rXP', 'IONq', 'Y', 'zbrUm', 'IoExAx', 'fuXW', 'YAaw', 'g1l6Rbu3', '2KJpXlnWnY']\n"
     ]
    },
    {
     "output_type": "execute_result",
     "data": {
      "text/plain": [
       "['0TL_______',\n",
       " '1MSmih6GQ_',\n",
       " '6_________',\n",
       " 'Gt0_______',\n",
       " '9UJ_______',\n",
       " 'L4________',\n",
       " '8CYv______',\n",
       " 'TrlCi_____',\n",
       " 'WeK_______',\n",
       " 'Zp________',\n",
       " 'EjQuN0____',\n",
       " 'mosy44____',\n",
       " 'xGX_______',\n",
       " 'cxRmBS____',\n",
       " 'V_________',\n",
       " 'kmPKUqCs__',\n",
       " 'k8Rc______',\n",
       " 'gMC710arM_',\n",
       " 'cYYGlZ5z__',\n",
       " '2luVSBg___',\n",
       " 'eDSKiUiTId',\n",
       " 'x6QUDli___',\n",
       " 'RuaS8_____',\n",
       " 'KBlML24w__',\n",
       " '2X0_______',\n",
       " 'Bl________',\n",
       " 'XDqjAcwa__',\n",
       " 'H1Ui______',\n",
       " '3kG9ka0x__',\n",
       " 'FJUAsP1___',\n",
       " 'NdfYIWT7z_',\n",
       " 'QlaDDyz___',\n",
       " 'PuK_______',\n",
       " 'M03_______',\n",
       " 'TBWveahZ__',\n",
       " 'KPBkzN____',\n",
       " 'yZf_______',\n",
       " 'nJJ_______',\n",
       " 'GNb_______',\n",
       " 'U4aomvGK__',\n",
       " 'v5pH4D6oy7',\n",
       " 'uJ1If_____',\n",
       " 'Nqo5FRH6P0',\n",
       " 'lNW9VjE8K_',\n",
       " 'mDnRp_____',\n",
       " '18________',\n",
       " 'mIY_______',\n",
       " 'Q6n4El0F__',\n",
       " 'LdIj______',\n",
       " 'tVjW7r____',\n",
       " 'd38hZ_____',\n",
       " 'K9vGpOgAgV',\n",
       " 'wA6ANyI3__',\n",
       " 'D_________',\n",
       " 'a4bi______',\n",
       " 'VxJI9TFP__',\n",
       " 'IONq______',\n",
       " 'Y_________',\n",
       " 'cpUnm_____',\n",
       " 'IoEsAx____',\n",
       " '0uWP______',\n",
       " 'YAaw______',\n",
       " 'g1l6Rbu3__',\n",
       " '2KJpXlnWnY']"
      ]
     },
     "metadata": {},
     "execution_count": 15
    }
   ],
   "source": [
    "output.shape\n",
    "out = output[..., :63]\n",
    "# torch.argmax(out, dim=2)\n",
    "print(\">>>>>>> label_text <<<<<<<\")\n",
    "print(label_text)\n",
    "\n",
    "# print(\">>>>>>> label_tensor <<<<<<<\")\n",
    "# print(label_tensor)\n",
    "\n",
    "# print(\">>>>>>> output <<<<<<<<\")\n",
    "# print(output)\n",
    "\n",
    "tensorToWordSync(out)"
   ]
  },
  {
   "cell_type": "code",
   "execution_count": 13,
   "metadata": {},
   "outputs": [
    {
     "output_type": "stream",
     "name": "stdout",
     "text": [
      "Epoch 0/80\n----------\n"
     ]
    },
    {
     "output_type": "display_data",
     "data": {
      "text/plain": "HBox(children=(FloatProgress(value=0.0, description='Epoch [1] progress', max=96.0, style=ProgressStyle(descri…",
      "application/vnd.jupyter.widget-view+json": {
       "version_major": 2,
       "version_minor": 0,
       "model_id": "47dfc3be269d40c09f514b03200fd5a3"
      }
     },
     "metadata": {}
    },
    {
     "output_type": "stream",
     "name": "stdout",
     "text": [
      "\n",
      "Training step => Loss: 3.3277 | Dist: 9.8248\n",
      "Evaluation step => Loss: 2.3583 | Dist 9.2742\n",
      "Epoch 1/80\n",
      "----------\n"
     ]
    },
    {
     "output_type": "display_data",
     "data": {
      "text/plain": "HBox(children=(FloatProgress(value=0.0, description='Epoch [2] progress', max=96.0, style=ProgressStyle(descri…",
      "application/vnd.jupyter.widget-view+json": {
       "version_major": 2,
       "version_minor": 0,
       "model_id": "76a314e81a234cddbbb9c7261aad30e2"
      }
     },
     "metadata": {}
    },
    {
     "output_type": "stream",
     "name": "stdout",
     "text": [
      "\n",
      "Training step => Loss: 2.4581 | Dist: 9.8708\n",
      "Evaluation step => Loss: 2.2425 | Dist 9.2419\n",
      "Epoch 2/80\n",
      "----------\n"
     ]
    },
    {
     "output_type": "display_data",
     "data": {
      "text/plain": "HBox(children=(FloatProgress(value=0.0, description='Epoch [3] progress', max=96.0, style=ProgressStyle(descri…",
      "application/vnd.jupyter.widget-view+json": {
       "version_major": 2,
       "version_minor": 0,
       "model_id": "9e8a2493d0bb40d698e0fc2dd6c43d71"
      }
     },
     "metadata": {}
    },
    {
     "output_type": "stream",
     "name": "stdout",
     "text": [
      "\n",
      "Training step => Loss: 2.3828 | Dist: 9.8213\n",
      "Evaluation step => Loss: 2.2052 | Dist 9.1984\n",
      "Epoch 3/80\n",
      "----------\n"
     ]
    },
    {
     "output_type": "display_data",
     "data": {
      "text/plain": "HBox(children=(FloatProgress(value=0.0, description='Epoch [4] progress', max=96.0, style=ProgressStyle(descri…",
      "application/vnd.jupyter.widget-view+json": {
       "version_major": 2,
       "version_minor": 0,
       "model_id": "432b526862e4467bb945446e7f5d9ccd"
      }
     },
     "metadata": {}
    },
    {
     "output_type": "stream",
     "name": "stdout",
     "text": [
      "\n",
      "Training step => Loss: 2.3541 | Dist: 9.7924\n",
      "Evaluation step => Loss: 2.1871 | Dist 9.1952\n",
      "Epoch 4/80\n",
      "----------\n"
     ]
    },
    {
     "output_type": "display_data",
     "data": {
      "text/plain": "HBox(children=(FloatProgress(value=0.0, description='Epoch [5] progress', max=96.0, style=ProgressStyle(descri…",
      "application/vnd.jupyter.widget-view+json": {
       "version_major": 2,
       "version_minor": 0,
       "model_id": "9ccbe0a903b6433da49b41e44005734b"
      }
     },
     "metadata": {}
    },
    {
     "output_type": "stream",
     "name": "stdout",
     "text": [
      "\n",
      "Training step => Loss: 2.3351 | Dist: 9.7727\n",
      "Evaluation step => Loss: 2.1763 | Dist 9.1726\n",
      "Epoch 5/80\n",
      "----------\n"
     ]
    },
    {
     "output_type": "display_data",
     "data": {
      "text/plain": "HBox(children=(FloatProgress(value=0.0, description='Epoch [6] progress', max=96.0, style=ProgressStyle(descri…",
      "application/vnd.jupyter.widget-view+json": {
       "version_major": 2,
       "version_minor": 0,
       "model_id": "6cde8e9ab72b4a2d838bd1982c03c1e1"
      }
     },
     "metadata": {}
    },
    {
     "output_type": "stream",
     "name": "stdout",
     "text": [
      "\n",
      "Training step => Loss: 2.3227 | Dist: 9.7631\n",
      "Evaluation step => Loss: 2.1690 | Dist 9.1403\n",
      "Epoch 6/80\n",
      "----------\n"
     ]
    },
    {
     "output_type": "display_data",
     "data": {
      "text/plain": "HBox(children=(FloatProgress(value=0.0, description='Epoch [7] progress', max=96.0, style=ProgressStyle(descri…",
      "application/vnd.jupyter.widget-view+json": {
       "version_major": 2,
       "version_minor": 0,
       "model_id": "72ff298a481b4a52a38fc6e6d40372d0"
      }
     },
     "metadata": {}
    },
    {
     "output_type": "stream",
     "name": "stdout",
     "text": [
      "\n",
      "Training step => Loss: 2.3156 | Dist: 9.7455\n",
      "Evaluation step => Loss: 2.1650 | Dist 9.1435\n",
      "Epoch 7/80\n",
      "----------\n"
     ]
    },
    {
     "output_type": "display_data",
     "data": {
      "text/plain": "HBox(children=(FloatProgress(value=0.0, description='Epoch [8] progress', max=96.0, style=ProgressStyle(descri…",
      "application/vnd.jupyter.widget-view+json": {
       "version_major": 2,
       "version_minor": 0,
       "model_id": "337c6d61357947468dda389151ac9bbc"
      }
     },
     "metadata": {}
    },
    {
     "output_type": "stream",
     "name": "stdout",
     "text": [
      "\n",
      "Training step => Loss: 2.3092 | Dist: 9.7366\n",
      "Evaluation step => Loss: 2.1608 | Dist 9.1371\n",
      "Epoch 8/80\n",
      "----------\n"
     ]
    },
    {
     "output_type": "display_data",
     "data": {
      "text/plain": "HBox(children=(FloatProgress(value=0.0, description='Epoch [9] progress', max=96.0, style=ProgressStyle(descri…",
      "application/vnd.jupyter.widget-view+json": {
       "version_major": 2,
       "version_minor": 0,
       "model_id": "c177dbf114904e499b2136044702ef60"
      }
     },
     "metadata": {}
    },
    {
     "output_type": "stream",
     "name": "stdout",
     "text": [
      "\n",
      "Training step => Loss: 2.3076 | Dist: 9.7389\n",
      "Evaluation step => Loss: 2.1591 | Dist 9.1484\n",
      "Epoch 9/80\n",
      "----------\n"
     ]
    },
    {
     "output_type": "display_data",
     "data": {
      "text/plain": "HBox(children=(FloatProgress(value=0.0, description='Epoch [10] progress', max=96.0, style=ProgressStyle(descr…",
      "application/vnd.jupyter.widget-view+json": {
       "version_major": 2,
       "version_minor": 0,
       "model_id": "65caf5771d29413baea12b22e099813e"
      }
     },
     "metadata": {}
    },
    {
     "output_type": "stream",
     "name": "stdout",
     "text": [
      "\n",
      "Training step => Loss: 2.3028 | Dist: 9.7279\n",
      "Evaluation step => Loss: 2.1566 | Dist 9.1387\n",
      "Epoch 10/80\n",
      "----------\n"
     ]
    },
    {
     "output_type": "display_data",
     "data": {
      "text/plain": "HBox(children=(FloatProgress(value=0.0, description='Epoch [11] progress', max=96.0, style=ProgressStyle(descr…",
      "application/vnd.jupyter.widget-view+json": {
       "version_major": 2,
       "version_minor": 0,
       "model_id": "7820356c93384603b61cde1688417ccf"
      }
     },
     "metadata": {}
    },
    {
     "output_type": "stream",
     "name": "stdout",
     "text": [
      "\n",
      "Training step => Loss: 2.2934 | Dist: 9.7118\n",
      "Evaluation step => Loss: 2.1568 | Dist 9.1210\n",
      "Epoch 11/80\n",
      "----------\n"
     ]
    },
    {
     "output_type": "display_data",
     "data": {
      "text/plain": "HBox(children=(FloatProgress(value=0.0, description='Epoch [12] progress', max=96.0, style=ProgressStyle(descr…",
      "application/vnd.jupyter.widget-view+json": {
       "version_major": 2,
       "version_minor": 0,
       "model_id": "608ec6874e8149f1bf5a0a698fe9e6cc"
      }
     },
     "metadata": {}
    },
    {
     "output_type": "stream",
     "name": "stdout",
     "text": [
      "\n",
      "Training step => Loss: 2.2925 | Dist: 9.7103\n",
      "Evaluation step => Loss: 2.1519 | Dist 9.1484\n",
      "Epoch 12/80\n",
      "----------\n"
     ]
    },
    {
     "output_type": "display_data",
     "data": {
      "text/plain": "HBox(children=(FloatProgress(value=0.0, description='Epoch [13] progress', max=96.0, style=ProgressStyle(descr…",
      "application/vnd.jupyter.widget-view+json": {
       "version_major": 2,
       "version_minor": 0,
       "model_id": "7ea639b7c2d2458f83c1146aeac98b66"
      }
     },
     "metadata": {}
    },
    {
     "output_type": "stream",
     "name": "stdout",
     "text": [
      "\n",
      "Training step => Loss: 2.2856 | Dist: 9.6923\n",
      "Evaluation step => Loss: 2.1497 | Dist 9.1306\n",
      "Epoch 13/80\n",
      "----------\n"
     ]
    },
    {
     "output_type": "display_data",
     "data": {
      "text/plain": "HBox(children=(FloatProgress(value=0.0, description='Epoch [14] progress', max=96.0, style=ProgressStyle(descr…",
      "application/vnd.jupyter.widget-view+json": {
       "version_major": 2,
       "version_minor": 0,
       "model_id": "735f5204abb64258aba00981fda31c13"
      }
     },
     "metadata": {}
    },
    {
     "output_type": "stream",
     "name": "stdout",
     "text": [
      "\n",
      "Training step => Loss: 2.2794 | Dist: 9.6915\n",
      "Evaluation step => Loss: 2.1489 | Dist 9.1565\n",
      "Epoch 14/80\n",
      "----------\n"
     ]
    },
    {
     "output_type": "display_data",
     "data": {
      "text/plain": "HBox(children=(FloatProgress(value=0.0, description='Epoch [15] progress', max=96.0, style=ProgressStyle(descr…",
      "application/vnd.jupyter.widget-view+json": {
       "version_major": 2,
       "version_minor": 0,
       "model_id": "4d66fb133f9449649ed66225e8353cc1"
      }
     },
     "metadata": {}
    },
    {
     "output_type": "stream",
     "name": "stdout",
     "text": [
      "\n",
      "Training step => Loss: 2.2717 | Dist: 9.6768\n",
      "Evaluation step => Loss: 2.1438 | Dist 9.1081\n",
      "Epoch 15/80\n",
      "----------\n"
     ]
    },
    {
     "output_type": "display_data",
     "data": {
      "text/plain": "HBox(children=(FloatProgress(value=0.0, description='Epoch [16] progress', max=96.0, style=ProgressStyle(descr…",
      "application/vnd.jupyter.widget-view+json": {
       "version_major": 2,
       "version_minor": 0,
       "model_id": "402b61fb2d734c72bf0286053ed6a15c"
      }
     },
     "metadata": {}
    },
    {
     "output_type": "stream",
     "name": "stdout",
     "text": [
      "\n",
      "Training step => Loss: 2.2626 | Dist: 9.6435\n",
      "Evaluation step => Loss: 2.1393 | Dist 9.1065\n",
      "Epoch 16/80\n",
      "----------\n"
     ]
    },
    {
     "output_type": "display_data",
     "data": {
      "text/plain": "HBox(children=(FloatProgress(value=0.0, description='Epoch [17] progress', max=96.0, style=ProgressStyle(descr…",
      "application/vnd.jupyter.widget-view+json": {
       "version_major": 2,
       "version_minor": 0,
       "model_id": "c2bedae212804c7e96909e0d253596b1"
      }
     },
     "metadata": {}
    },
    {
     "output_type": "stream",
     "name": "stdout",
     "text": [
      "\n",
      "Training step => Loss: 2.2444 | Dist: 9.6045\n",
      "Evaluation step => Loss: 2.1274 | Dist 9.0629\n",
      "Epoch 17/80\n",
      "----------\n"
     ]
    },
    {
     "output_type": "display_data",
     "data": {
      "text/plain": "HBox(children=(FloatProgress(value=0.0, description='Epoch [18] progress', max=96.0, style=ProgressStyle(descr…",
      "application/vnd.jupyter.widget-view+json": {
       "version_major": 2,
       "version_minor": 0,
       "model_id": "7a63b2f8415846e88fac72ba7d4d91d7"
      }
     },
     "metadata": {}
    },
    {
     "output_type": "stream",
     "name": "stdout",
     "text": [
      "\n",
      "Training step => Loss: 2.2163 | Dist: 9.5637\n",
      "Evaluation step => Loss: 2.1103 | Dist 9.0323\n",
      "Epoch 18/80\n",
      "----------\n"
     ]
    },
    {
     "output_type": "display_data",
     "data": {
      "text/plain": "HBox(children=(FloatProgress(value=0.0, description='Epoch [19] progress', max=96.0, style=ProgressStyle(descr…",
      "application/vnd.jupyter.widget-view+json": {
       "version_major": 2,
       "version_minor": 0,
       "model_id": "3af9507e105b4b0280b9852573de0709"
      }
     },
     "metadata": {}
    },
    {
     "output_type": "stream",
     "name": "stdout",
     "text": [
      "\n",
      "Training step => Loss: 2.1822 | Dist: 9.5118\n",
      "Evaluation step => Loss: 2.0898 | Dist 8.9855\n",
      "Epoch 19/80\n",
      "----------\n"
     ]
    },
    {
     "output_type": "display_data",
     "data": {
      "text/plain": "HBox(children=(FloatProgress(value=0.0, description='Epoch [20] progress', max=96.0, style=ProgressStyle(descr…",
      "application/vnd.jupyter.widget-view+json": {
       "version_major": 2,
       "version_minor": 0,
       "model_id": "16edd667a871432896d99bc82a1b53b3"
      }
     },
     "metadata": {}
    },
    {
     "output_type": "stream",
     "name": "stdout",
     "text": [
      "\n",
      "Training step => Loss: 2.1371 | Dist: 9.4469\n",
      "Evaluation step => Loss: 2.0539 | Dist 8.9097\n",
      "Epoch 20/80\n",
      "----------\n"
     ]
    },
    {
     "output_type": "display_data",
     "data": {
      "text/plain": "HBox(children=(FloatProgress(value=0.0, description='Epoch [21] progress', max=96.0, style=ProgressStyle(descr…",
      "application/vnd.jupyter.widget-view+json": {
       "version_major": 2,
       "version_minor": 0,
       "model_id": "9f61b6ea129c43759a2115365334d96f"
      }
     },
     "metadata": {}
    },
    {
     "output_type": "stream",
     "name": "stdout",
     "text": [
      "\n",
      "Training step => Loss: 2.0855 | Dist: 9.3682\n",
      "Evaluation step => Loss: 2.0334 | Dist 8.9258\n",
      "Epoch 21/80\n",
      "----------\n"
     ]
    },
    {
     "output_type": "display_data",
     "data": {
      "text/plain": "HBox(children=(FloatProgress(value=0.0, description='Epoch [22] progress', max=96.0, style=ProgressStyle(descr…",
      "application/vnd.jupyter.widget-view+json": {
       "version_major": 2,
       "version_minor": 0,
       "model_id": "87622a67498d4da5b51ed1cece5deaf7"
      }
     },
     "metadata": {}
    },
    {
     "output_type": "stream",
     "name": "stdout",
     "text": [
      "\n",
      "Training step => Loss: 2.0349 | Dist: 9.3061\n",
      "Evaluation step => Loss: 2.0037 | Dist 8.8661\n",
      "Epoch 22/80\n",
      "----------\n"
     ]
    },
    {
     "output_type": "display_data",
     "data": {
      "text/plain": "HBox(children=(FloatProgress(value=0.0, description='Epoch [23] progress', max=96.0, style=ProgressStyle(descr…",
      "application/vnd.jupyter.widget-view+json": {
       "version_major": 2,
       "version_minor": 0,
       "model_id": "1b61ae241e4d4b979c0d3b490b209934"
      }
     },
     "metadata": {}
    },
    {
     "output_type": "stream",
     "name": "stdout",
     "text": [
      "\n",
      "Training step => Loss: 1.9850 | Dist: 9.2171\n",
      "Evaluation step => Loss: 1.9770 | Dist 8.8500\n",
      "Epoch 23/80\n",
      "----------\n"
     ]
    },
    {
     "output_type": "display_data",
     "data": {
      "text/plain": "HBox(children=(FloatProgress(value=0.0, description='Epoch [24] progress', max=96.0, style=ProgressStyle(descr…",
      "application/vnd.jupyter.widget-view+json": {
       "version_major": 2,
       "version_minor": 0,
       "model_id": "7a8f6099dda04989bc6adb689eb8ec89"
      }
     },
     "metadata": {}
    },
    {
     "output_type": "stream",
     "name": "stdout",
     "text": [
      "\n",
      "Training step => Loss: 1.9310 | Dist: 9.1408\n",
      "Evaluation step => Loss: 1.9441 | Dist 8.8226\n",
      "Epoch 24/80\n",
      "----------\n"
     ]
    },
    {
     "output_type": "display_data",
     "data": {
      "text/plain": "HBox(children=(FloatProgress(value=0.0, description='Epoch [25] progress', max=96.0, style=ProgressStyle(descr…",
      "application/vnd.jupyter.widget-view+json": {
       "version_major": 2,
       "version_minor": 0,
       "model_id": "8c2221c6282e4fb6bcf37dcf32f87611"
      }
     },
     "metadata": {}
    },
    {
     "output_type": "stream",
     "name": "stdout",
     "text": [
      "\n",
      "Training step => Loss: 1.8802 | Dist: 9.0456\n",
      "Evaluation step => Loss: 1.9330 | Dist 8.7468\n",
      "Epoch 25/80\n",
      "----------\n"
     ]
    },
    {
     "output_type": "display_data",
     "data": {
      "text/plain": "HBox(children=(FloatProgress(value=0.0, description='Epoch [26] progress', max=96.0, style=ProgressStyle(descr…",
      "application/vnd.jupyter.widget-view+json": {
       "version_major": 2,
       "version_minor": 0,
       "model_id": "5098d54413604d2c847033b02cbd8549"
      }
     },
     "metadata": {}
    },
    {
     "output_type": "stream",
     "name": "stdout",
     "text": [
      "\n",
      "Training step => Loss: 1.8308 | Dist: 8.9592\n",
      "Evaluation step => Loss: 1.8913 | Dist 8.6952\n",
      "Epoch 26/80\n",
      "----------\n"
     ]
    },
    {
     "output_type": "display_data",
     "data": {
      "text/plain": "HBox(children=(FloatProgress(value=0.0, description='Epoch [27] progress', max=96.0, style=ProgressStyle(descr…",
      "application/vnd.jupyter.widget-view+json": {
       "version_major": 2,
       "version_minor": 0,
       "model_id": "a7933f178ae84c68b1ec23e6b852e64c"
      }
     },
     "metadata": {}
    },
    {
     "output_type": "stream",
     "name": "stdout",
     "text": [
      "\n",
      "Training step => Loss: 1.7823 | Dist: 8.8681\n",
      "Evaluation step => Loss: 1.8700 | Dist 8.6016\n",
      "Epoch 27/80\n",
      "----------\n"
     ]
    },
    {
     "output_type": "display_data",
     "data": {
      "text/plain": "HBox(children=(FloatProgress(value=0.0, description='Epoch [28] progress', max=96.0, style=ProgressStyle(descr…",
      "application/vnd.jupyter.widget-view+json": {
       "version_major": 2,
       "version_minor": 0,
       "model_id": "1bd1ed19f8ea4fa2b0eefc75705c3aff"
      }
     },
     "metadata": {}
    },
    {
     "output_type": "stream",
     "name": "stdout",
     "text": [
      "\n",
      "Training step => Loss: 1.7385 | Dist: 8.7819\n",
      "Evaluation step => Loss: 1.8892 | Dist 8.6210\n",
      "Epoch 28/80\n",
      "----------\n"
     ]
    },
    {
     "output_type": "display_data",
     "data": {
      "text/plain": "HBox(children=(FloatProgress(value=0.0, description='Epoch [29] progress', max=96.0, style=ProgressStyle(descr…",
      "application/vnd.jupyter.widget-view+json": {
       "version_major": 2,
       "version_minor": 0,
       "model_id": "e713e410d5ce4b12bafd65fc2e122c86"
      }
     },
     "metadata": {}
    },
    {
     "output_type": "stream",
     "name": "stdout",
     "text": [
      "\n",
      "Training step => Loss: 1.6972 | Dist: 8.7018\n",
      "Evaluation step => Loss: 1.8517 | Dist 8.5710\n",
      "Epoch 29/80\n",
      "----------\n"
     ]
    },
    {
     "output_type": "display_data",
     "data": {
      "text/plain": "HBox(children=(FloatProgress(value=0.0, description='Epoch [30] progress', max=96.0, style=ProgressStyle(descr…",
      "application/vnd.jupyter.widget-view+json": {
       "version_major": 2,
       "version_minor": 0,
       "model_id": "de48cd5549884672bf8c279d385965f8"
      }
     },
     "metadata": {}
    },
    {
     "output_type": "stream",
     "name": "stdout",
     "text": [
      "\n",
      "Training step => Loss: 1.6456 | Dist: 8.5835\n",
      "Evaluation step => Loss: 1.8309 | Dist 8.5581\n",
      "Epoch 30/80\n",
      "----------\n"
     ]
    },
    {
     "output_type": "display_data",
     "data": {
      "text/plain": "HBox(children=(FloatProgress(value=0.0, description='Epoch [31] progress', max=96.0, style=ProgressStyle(descr…",
      "application/vnd.jupyter.widget-view+json": {
       "version_major": 2,
       "version_minor": 0,
       "model_id": "24d6e8fda0c54d8e8ab3a46b42343e43"
      }
     },
     "metadata": {}
    },
    {
     "output_type": "stream",
     "name": "stdout",
     "text": [
      "\n",
      "Training step => Loss: 1.6194 | Dist: 8.5556\n",
      "Evaluation step => Loss: 1.8096 | Dist 8.5210\n",
      "Epoch 31/80\n",
      "----------\n"
     ]
    },
    {
     "output_type": "display_data",
     "data": {
      "text/plain": "HBox(children=(FloatProgress(value=0.0, description='Epoch [32] progress', max=96.0, style=ProgressStyle(descr…",
      "application/vnd.jupyter.widget-view+json": {
       "version_major": 2,
       "version_minor": 0,
       "model_id": "676b8b968e424d19a1224d954d7bbd2e"
      }
     },
     "metadata": {}
    },
    {
     "output_type": "stream",
     "name": "stdout",
     "text": [
      "\n",
      "Training step => Loss: 1.5767 | Dist: 8.4360\n",
      "Evaluation step => Loss: 1.7875 | Dist 8.4710\n",
      "Epoch 32/80\n",
      "----------\n"
     ]
    },
    {
     "output_type": "display_data",
     "data": {
      "text/plain": "HBox(children=(FloatProgress(value=0.0, description='Epoch [33] progress', max=96.0, style=ProgressStyle(descr…",
      "application/vnd.jupyter.widget-view+json": {
       "version_major": 2,
       "version_minor": 0,
       "model_id": "7f5656aff8e7481180608a9bcfb11473"
      }
     },
     "metadata": {}
    },
    {
     "output_type": "stream",
     "name": "stdout",
     "text": [
      "\n",
      "Training step => Loss: 1.5460 | Dist: 8.3973\n",
      "Evaluation step => Loss: 1.8008 | Dist 8.4871\n",
      "Epoch 33/80\n",
      "----------\n"
     ]
    },
    {
     "output_type": "display_data",
     "data": {
      "text/plain": "HBox(children=(FloatProgress(value=0.0, description='Epoch [34] progress', max=96.0, style=ProgressStyle(descr…",
      "application/vnd.jupyter.widget-view+json": {
       "version_major": 2,
       "version_minor": 0,
       "model_id": "039d311570b24814995d4ba2bdfaaa42"
      }
     },
     "metadata": {}
    },
    {
     "output_type": "stream",
     "name": "stdout",
     "text": [
      "\n",
      "Training step => Loss: 1.5008 | Dist: 8.2673\n",
      "Evaluation step => Loss: 1.7711 | Dist 8.3903\n",
      "Epoch 34/80\n",
      "----------\n"
     ]
    },
    {
     "output_type": "display_data",
     "data": {
      "text/plain": "HBox(children=(FloatProgress(value=0.0, description='Epoch [35] progress', max=96.0, style=ProgressStyle(descr…",
      "application/vnd.jupyter.widget-view+json": {
       "version_major": 2,
       "version_minor": 0,
       "model_id": "cf4979383d9542d4a74126e2f218a553"
      }
     },
     "metadata": {}
    },
    {
     "output_type": "stream",
     "name": "stdout",
     "text": [
      "\n",
      "Training step => Loss: 1.4698 | Dist: 8.2168\n",
      "Evaluation step => Loss: 1.7747 | Dist 8.3903\n",
      "Epoch 35/80\n",
      "----------\n"
     ]
    },
    {
     "output_type": "display_data",
     "data": {
      "text/plain": "HBox(children=(FloatProgress(value=0.0, description='Epoch [36] progress', max=96.0, style=ProgressStyle(descr…",
      "application/vnd.jupyter.widget-view+json": {
       "version_major": 2,
       "version_minor": 0,
       "model_id": "592c5e4c314c428f998f21b6a10ab82d"
      }
     },
     "metadata": {}
    },
    {
     "output_type": "stream",
     "name": "stdout",
     "text": [
      "\n",
      "Training step => Loss: 1.4392 | Dist: 8.1537\n",
      "Evaluation step => Loss: 1.7774 | Dist 8.3742\n",
      "Epoch 36/80\n",
      "----------\n"
     ]
    },
    {
     "output_type": "display_data",
     "data": {
      "text/plain": "HBox(children=(FloatProgress(value=0.0, description='Epoch [37] progress', max=96.0, style=ProgressStyle(descr…",
      "application/vnd.jupyter.widget-view+json": {
       "version_major": 2,
       "version_minor": 0,
       "model_id": "bc96d1ab6fe846d188e3415b871be801"
      }
     },
     "metadata": {}
    },
    {
     "output_type": "stream",
     "name": "stdout",
     "text": [
      "\n",
      "Training step => Loss: 1.3991 | Dist: 8.0731\n",
      "Evaluation step => Loss: 1.7503 | Dist 8.2952\n",
      "Epoch 37/80\n",
      "----------\n"
     ]
    },
    {
     "output_type": "display_data",
     "data": {
      "text/plain": "HBox(children=(FloatProgress(value=0.0, description='Epoch [38] progress', max=96.0, style=ProgressStyle(descr…",
      "application/vnd.jupyter.widget-view+json": {
       "version_major": 2,
       "version_minor": 0,
       "model_id": "f905bace1e1a43fdaf00141df9dcf7c5"
      }
     },
     "metadata": {}
    },
    {
     "output_type": "stream",
     "name": "stdout",
     "text": [
      "\n",
      "Training step => Loss: 1.3707 | Dist: 7.9958\n",
      "Evaluation step => Loss: 1.7369 | Dist 8.2710\n",
      "Epoch 38/80\n",
      "----------\n"
     ]
    },
    {
     "output_type": "display_data",
     "data": {
      "text/plain": "HBox(children=(FloatProgress(value=0.0, description='Epoch [39] progress', max=96.0, style=ProgressStyle(descr…",
      "application/vnd.jupyter.widget-view+json": {
       "version_major": 2,
       "version_minor": 0,
       "model_id": "a8f0b7ba2dd74778b6861bf6c8934a6a"
      }
     },
     "metadata": {}
    },
    {
     "output_type": "stream",
     "name": "stdout",
     "text": [
      "\n",
      "Training step => Loss: 1.3410 | Dist: 7.9190\n",
      "Evaluation step => Loss: 1.7088 | Dist 8.2403\n",
      "Epoch 39/80\n",
      "----------\n"
     ]
    },
    {
     "output_type": "display_data",
     "data": {
      "text/plain": "HBox(children=(FloatProgress(value=0.0, description='Epoch [40] progress', max=96.0, style=ProgressStyle(descr…",
      "application/vnd.jupyter.widget-view+json": {
       "version_major": 2,
       "version_minor": 0,
       "model_id": "3a36d474f1dc43abb6e81449c060aa37"
      }
     },
     "metadata": {}
    },
    {
     "output_type": "stream",
     "name": "stdout",
     "text": [
      "\n",
      "Training step => Loss: 1.3160 | Dist: 7.8760\n",
      "Evaluation step => Loss: 1.6997 | Dist 8.1790\n",
      "Epoch 40/80\n",
      "----------\n"
     ]
    },
    {
     "output_type": "display_data",
     "data": {
      "text/plain": "HBox(children=(FloatProgress(value=0.0, description='Epoch [41] progress', max=96.0, style=ProgressStyle(descr…",
      "application/vnd.jupyter.widget-view+json": {
       "version_major": 2,
       "version_minor": 0,
       "model_id": "4354e0fd5d6e458d853237268fb7feed"
      }
     },
     "metadata": {}
    },
    {
     "output_type": "stream",
     "name": "stdout",
     "text": [
      "\n",
      "Training step => Loss: 1.2793 | Dist: 7.7826\n",
      "Evaluation step => Loss: 1.7331 | Dist 8.2403\n",
      "Epoch 41/80\n",
      "----------\n"
     ]
    },
    {
     "output_type": "display_data",
     "data": {
      "text/plain": "HBox(children=(FloatProgress(value=0.0, description='Epoch [42] progress', max=96.0, style=ProgressStyle(descr…",
      "application/vnd.jupyter.widget-view+json": {
       "version_major": 2,
       "version_minor": 0,
       "model_id": "b491b88ecd8a43f59c361518e905b59b"
      }
     },
     "metadata": {}
    },
    {
     "output_type": "stream",
     "name": "stdout",
     "text": [
      "\n",
      "Training step => Loss: 1.2554 | Dist: 7.7182\n",
      "Evaluation step => Loss: 1.7217 | Dist 8.1403\n",
      "Epoch 42/80\n",
      "----------\n"
     ]
    },
    {
     "output_type": "display_data",
     "data": {
      "text/plain": "HBox(children=(FloatProgress(value=0.0, description='Epoch [43] progress', max=96.0, style=ProgressStyle(descr…",
      "application/vnd.jupyter.widget-view+json": {
       "version_major": 2,
       "version_minor": 0,
       "model_id": "3092d462b52d469985f01fc9bcaba2bc"
      }
     },
     "metadata": {}
    },
    {
     "output_type": "stream",
     "name": "stdout",
     "text": [
      "\n",
      "Training step => Loss: 1.2263 | Dist: 7.6860\n",
      "Evaluation step => Loss: 1.7250 | Dist 8.1919\n",
      "Epoch 43/80\n",
      "----------\n"
     ]
    },
    {
     "output_type": "display_data",
     "data": {
      "text/plain": "HBox(children=(FloatProgress(value=0.0, description='Epoch [44] progress', max=96.0, style=ProgressStyle(descr…",
      "application/vnd.jupyter.widget-view+json": {
       "version_major": 2,
       "version_minor": 0,
       "model_id": "3a5498d8b0ad46c38228493d7f769e3d"
      }
     },
     "metadata": {}
    },
    {
     "output_type": "stream",
     "name": "stdout",
     "text": [
      "\n",
      "Training step => Loss: 1.2000 | Dist: 7.6087\n",
      "Evaluation step => Loss: 1.7151 | Dist 8.1145\n",
      "Epoch 44/80\n",
      "----------\n"
     ]
    },
    {
     "output_type": "display_data",
     "data": {
      "text/plain": "HBox(children=(FloatProgress(value=0.0, description='Epoch [45] progress', max=96.0, style=ProgressStyle(descr…",
      "application/vnd.jupyter.widget-view+json": {
       "version_major": 2,
       "version_minor": 0,
       "model_id": "910053e104424239a8d4133e820081df"
      }
     },
     "metadata": {}
    },
    {
     "output_type": "stream",
     "name": "stdout",
     "text": [
      "\n",
      "Training step => Loss: 1.1711 | Dist: 7.5545\n",
      "Evaluation step => Loss: 1.7346 | Dist 8.1710\n",
      "Epoch 45/80\n",
      "----------\n"
     ]
    },
    {
     "output_type": "display_data",
     "data": {
      "text/plain": "HBox(children=(FloatProgress(value=0.0, description='Epoch [46] progress', max=96.0, style=ProgressStyle(descr…",
      "application/vnd.jupyter.widget-view+json": {
       "version_major": 2,
       "version_minor": 0,
       "model_id": "4c328fa3e8a3440d90e9d60cd71aa266"
      }
     },
     "metadata": {}
    },
    {
     "output_type": "stream",
     "name": "stdout",
     "text": [
      "\n",
      "Training step => Loss: 1.1387 | Dist: 7.4573\n",
      "Evaluation step => Loss: 1.7116 | Dist 8.1242\n",
      "Epoch 46/80\n",
      "----------\n"
     ]
    },
    {
     "output_type": "display_data",
     "data": {
      "text/plain": "HBox(children=(FloatProgress(value=0.0, description='Epoch [47] progress', max=96.0, style=ProgressStyle(descr…",
      "application/vnd.jupyter.widget-view+json": {
       "version_major": 2,
       "version_minor": 0,
       "model_id": "9da62a693bfc448cbe52cc7c405a581c"
      }
     },
     "metadata": {}
    },
    {
     "output_type": "stream",
     "name": "stdout",
     "text": [
      "\n",
      "Training step => Loss: 1.1184 | Dist: 7.4345\n",
      "Evaluation step => Loss: 1.7398 | Dist 8.1339\n",
      "Epoch 47/80\n",
      "----------\n"
     ]
    },
    {
     "output_type": "display_data",
     "data": {
      "text/plain": "HBox(children=(FloatProgress(value=0.0, description='Epoch [48] progress', max=96.0, style=ProgressStyle(descr…",
      "application/vnd.jupyter.widget-view+json": {
       "version_major": 2,
       "version_minor": 0,
       "model_id": "8756e87c0876400797eba1c5b26a1428"
      }
     },
     "metadata": {}
    },
    {
     "output_type": "stream",
     "name": "stdout",
     "text": [
      "\n",
      "Training step => Loss: 1.1016 | Dist: 7.3871\n",
      "Evaluation step => Loss: 1.7244 | Dist 8.1000\n",
      "Epoch 48/80\n",
      "----------\n"
     ]
    },
    {
     "output_type": "display_data",
     "data": {
      "text/plain": "HBox(children=(FloatProgress(value=0.0, description='Epoch [49] progress', max=96.0, style=ProgressStyle(descr…",
      "application/vnd.jupyter.widget-view+json": {
       "version_major": 2,
       "version_minor": 0,
       "model_id": "487e7f2a93a04a3b83020987fb30534d"
      }
     },
     "metadata": {}
    },
    {
     "output_type": "stream",
     "name": "stdout",
     "text": [
      "\n",
      "Training step => Loss: 1.0778 | Dist: 7.3208\n",
      "Evaluation step => Loss: 1.7273 | Dist 8.1065\n",
      "Epoch 49/80\n",
      "----------\n"
     ]
    },
    {
     "output_type": "display_data",
     "data": {
      "text/plain": "HBox(children=(FloatProgress(value=0.0, description='Epoch [50] progress', max=96.0, style=ProgressStyle(descr…",
      "application/vnd.jupyter.widget-view+json": {
       "version_major": 2,
       "version_minor": 0,
       "model_id": "69c31f8bedf644c89a2ceb2d3990be93"
      }
     },
     "metadata": {}
    },
    {
     "output_type": "stream",
     "name": "stdout",
     "text": [
      "\n",
      "Training step => Loss: 1.0478 | Dist: 7.2608\n",
      "Evaluation step => Loss: 1.7680 | Dist 8.1565\n",
      "Epoch 50/80\n",
      "----------\n"
     ]
    },
    {
     "output_type": "display_data",
     "data": {
      "text/plain": "HBox(children=(FloatProgress(value=0.0, description='Epoch [51] progress', max=96.0, style=ProgressStyle(descr…",
      "application/vnd.jupyter.widget-view+json": {
       "version_major": 2,
       "version_minor": 0,
       "model_id": "7f861f1ff8664c3db4d3eb57a8c87184"
      }
     },
     "metadata": {}
    },
    {
     "output_type": "stream",
     "name": "stdout",
     "text": [
      "\n",
      "Training step => Loss: 1.0221 | Dist: 7.1939\n",
      "Evaluation step => Loss: 1.7384 | Dist 8.0613\n",
      "Epoch 51/80\n",
      "----------\n"
     ]
    },
    {
     "output_type": "display_data",
     "data": {
      "text/plain": "HBox(children=(FloatProgress(value=0.0, description='Epoch [52] progress', max=96.0, style=ProgressStyle(descr…",
      "application/vnd.jupyter.widget-view+json": {
       "version_major": 2,
       "version_minor": 0,
       "model_id": "d0b76f1126af4a05ad12cabe757b2f33"
      }
     },
     "metadata": {}
    },
    {
     "output_type": "stream",
     "name": "stdout",
     "text": [
      "\n",
      "Training step => Loss: 1.0120 | Dist: 7.1469\n",
      "Evaluation step => Loss: 1.7580 | Dist 8.1048\n",
      "Epoch 52/80\n",
      "----------\n"
     ]
    },
    {
     "output_type": "display_data",
     "data": {
      "text/plain": "HBox(children=(FloatProgress(value=0.0, description='Epoch [53] progress', max=96.0, style=ProgressStyle(descr…",
      "application/vnd.jupyter.widget-view+json": {
       "version_major": 2,
       "version_minor": 0,
       "model_id": "d16bf24e38dc4e53ae80cc00187fabf6"
      }
     },
     "metadata": {}
    },
    {
     "output_type": "stream",
     "name": "stdout",
     "text": [
      "\n",
      "Training step => Loss: 0.9840 | Dist: 7.1058\n",
      "Evaluation step => Loss: 1.7328 | Dist 8.0548\n",
      "Epoch 53/80\n",
      "----------\n"
     ]
    },
    {
     "output_type": "display_data",
     "data": {
      "text/plain": "HBox(children=(FloatProgress(value=0.0, description='Epoch [54] progress', max=96.0, style=ProgressStyle(descr…",
      "application/vnd.jupyter.widget-view+json": {
       "version_major": 2,
       "version_minor": 0,
       "model_id": "30c2eaedc22146d1a638ef255c2d8d0b"
      }
     },
     "metadata": {}
    },
    {
     "output_type": "stream",
     "name": "stdout",
     "text": [
      "\n",
      "Training step => Loss: 0.9607 | Dist: 7.0540\n",
      "Evaluation step => Loss: 1.7227 | Dist 8.0000\n",
      "Epoch 54/80\n",
      "----------\n"
     ]
    },
    {
     "output_type": "display_data",
     "data": {
      "text/plain": "HBox(children=(FloatProgress(value=0.0, description='Epoch [55] progress', max=96.0, style=ProgressStyle(descr…",
      "application/vnd.jupyter.widget-view+json": {
       "version_major": 2,
       "version_minor": 0,
       "model_id": "688ba072a6044e3cab37e511a1819dcd"
      }
     },
     "metadata": {}
    },
    {
     "output_type": "stream",
     "name": "stdout",
     "text": [
      "\n",
      "Training step => Loss: 0.9326 | Dist: 6.9903\n",
      "Evaluation step => Loss: 1.7502 | Dist 8.0548\n",
      "Epoch 55/80\n",
      "----------\n"
     ]
    },
    {
     "output_type": "display_data",
     "data": {
      "text/plain": "HBox(children=(FloatProgress(value=0.0, description='Epoch [56] progress', max=96.0, style=ProgressStyle(descr…",
      "application/vnd.jupyter.widget-view+json": {
       "version_major": 2,
       "version_minor": 0,
       "model_id": "efc0c6e7aa864a8eaae5a85d27de83f0"
      }
     },
     "metadata": {}
    },
    {
     "output_type": "stream",
     "name": "stdout",
     "text": [
      "\n",
      "Training step => Loss: 0.9077 | Dist: 6.9310\n",
      "Evaluation step => Loss: 1.7575 | Dist 8.0081\n",
      "Epoch 56/80\n",
      "----------\n"
     ]
    },
    {
     "output_type": "display_data",
     "data": {
      "text/plain": "HBox(children=(FloatProgress(value=0.0, description='Epoch [57] progress', max=96.0, style=ProgressStyle(descr…",
      "application/vnd.jupyter.widget-view+json": {
       "version_major": 2,
       "version_minor": 0,
       "model_id": "ce8f3ec7fe084a3585fb0589fc413a30"
      }
     },
     "metadata": {}
    },
    {
     "output_type": "stream",
     "name": "stdout",
     "text": [
      "\n",
      "Training step => Loss: 0.9021 | Dist: 6.9105\n",
      "Evaluation step => Loss: 1.7809 | Dist 7.9887\n",
      "Epoch 57/80\n",
      "----------\n"
     ]
    },
    {
     "output_type": "display_data",
     "data": {
      "text/plain": "HBox(children=(FloatProgress(value=0.0, description='Epoch [58] progress', max=96.0, style=ProgressStyle(descr…",
      "application/vnd.jupyter.widget-view+json": {
       "version_major": 2,
       "version_minor": 0,
       "model_id": "85ee0826477a47c4ac1a75dcf8f13ad2"
      }
     },
     "metadata": {}
    },
    {
     "output_type": "stream",
     "name": "stdout",
     "text": [
      "\n",
      "Training step => Loss: 0.8583 | Dist: 6.7906\n",
      "Evaluation step => Loss: 1.7623 | Dist 7.9839\n",
      "Epoch 58/80\n",
      "----------\n"
     ]
    },
    {
     "output_type": "display_data",
     "data": {
      "text/plain": "HBox(children=(FloatProgress(value=0.0, description='Epoch [59] progress', max=96.0, style=ProgressStyle(descr…",
      "application/vnd.jupyter.widget-view+json": {
       "version_major": 2,
       "version_minor": 0,
       "model_id": "790aaa95853943c1be994fe47f1c22f3"
      }
     },
     "metadata": {}
    },
    {
     "output_type": "stream",
     "name": "stdout",
     "text": [
      "\n",
      "Training step => Loss: 0.8538 | Dist: 6.7906\n",
      "Evaluation step => Loss: 1.7561 | Dist 8.0355\n",
      "Epoch 59/80\n",
      "----------\n"
     ]
    },
    {
     "output_type": "display_data",
     "data": {
      "text/plain": "HBox(children=(FloatProgress(value=0.0, description='Epoch [60] progress', max=96.0, style=ProgressStyle(descr…",
      "application/vnd.jupyter.widget-view+json": {
       "version_major": 2,
       "version_minor": 0,
       "model_id": "165190251b3f4d019d30a8fe1aa393c2"
      }
     },
     "metadata": {}
    },
    {
     "output_type": "stream",
     "name": "stdout",
     "text": [
      "\n",
      "Training step => Loss: 0.8339 | Dist: 6.7213\n",
      "Evaluation step => Loss: 1.7787 | Dist 8.0210\n",
      "Epoch 60/80\n",
      "----------\n"
     ]
    },
    {
     "output_type": "display_data",
     "data": {
      "text/plain": "HBox(children=(FloatProgress(value=0.0, description='Epoch [61] progress', max=96.0, style=ProgressStyle(descr…",
      "application/vnd.jupyter.widget-view+json": {
       "version_major": 2,
       "version_minor": 0,
       "model_id": "2d888d2ce60546d7998550a9db54f091"
      }
     },
     "metadata": {}
    },
    {
     "output_type": "stream",
     "name": "stdout",
     "text": [
      "\n",
      "Training step => Loss: 0.8258 | Dist: 6.7042\n",
      "Evaluation step => Loss: 1.8213 | Dist 8.0032\n",
      "Epoch 61/80\n",
      "----------\n"
     ]
    },
    {
     "output_type": "display_data",
     "data": {
      "text/plain": "HBox(children=(FloatProgress(value=0.0, description='Epoch [62] progress', max=96.0, style=ProgressStyle(descr…",
      "application/vnd.jupyter.widget-view+json": {
       "version_major": 2,
       "version_minor": 0,
       "model_id": "e59371ec9eae4a7989ca4fe157e4c4f5"
      }
     },
     "metadata": {}
    },
    {
     "output_type": "stream",
     "name": "stdout",
     "text": [
      "\n",
      "Training step => Loss: 0.8120 | Dist: 6.7023\n",
      "Evaluation step => Loss: 1.7901 | Dist 7.9452\n",
      "Epoch 62/80\n",
      "----------\n"
     ]
    },
    {
     "output_type": "display_data",
     "data": {
      "text/plain": "HBox(children=(FloatProgress(value=0.0, description='Epoch [63] progress', max=96.0, style=ProgressStyle(descr…",
      "application/vnd.jupyter.widget-view+json": {
       "version_major": 2,
       "version_minor": 0,
       "model_id": "8833fc7360864d0b8a97247873d4d9ae"
      }
     },
     "metadata": {}
    },
    {
     "output_type": "stream",
     "name": "stdout",
     "text": [
      "\n",
      "Training step => Loss: 0.7788 | Dist: 6.5953\n",
      "Evaluation step => Loss: 1.7890 | Dist 8.0145\n",
      "Epoch 63/80\n",
      "----------\n"
     ]
    },
    {
     "output_type": "display_data",
     "data": {
      "text/plain": "HBox(children=(FloatProgress(value=0.0, description='Epoch [64] progress', max=96.0, style=ProgressStyle(descr…",
      "application/vnd.jupyter.widget-view+json": {
       "version_major": 2,
       "version_minor": 0,
       "model_id": "91818b1858ec421e91e5259ba01dc45c"
      }
     },
     "metadata": {}
    },
    {
     "output_type": "stream",
     "name": "stdout",
     "text": [
      "\n",
      "Training step => Loss: 0.7791 | Dist: 6.6032\n",
      "Evaluation step => Loss: 1.8469 | Dist 8.0161\n",
      "Epoch 64/80\n",
      "----------\n"
     ]
    },
    {
     "output_type": "display_data",
     "data": {
      "text/plain": "HBox(children=(FloatProgress(value=0.0, description='Epoch [65] progress', max=96.0, style=ProgressStyle(descr…",
      "application/vnd.jupyter.widget-view+json": {
       "version_major": 2,
       "version_minor": 0,
       "model_id": "191f1e4e2d094922bf94920dcad4dce4"
      }
     },
     "metadata": {}
    },
    {
     "output_type": "stream",
     "name": "stdout",
     "text": [
      "\n",
      "Training step => Loss: 0.7429 | Dist: 6.5152\n",
      "Evaluation step => Loss: 1.8303 | Dist 7.9806\n",
      "Epoch 65/80\n",
      "----------\n"
     ]
    },
    {
     "output_type": "display_data",
     "data": {
      "text/plain": "HBox(children=(FloatProgress(value=0.0, description='Epoch [66] progress', max=96.0, style=ProgressStyle(descr…",
      "application/vnd.jupyter.widget-view+json": {
       "version_major": 2,
       "version_minor": 0,
       "model_id": "14d840053be74c1a8ace0b9531fd3dcb"
      }
     },
     "metadata": {}
    },
    {
     "output_type": "stream",
     "name": "stdout",
     "text": [
      "\n",
      "Training step => Loss: 0.7274 | Dist: 6.4684\n",
      "Evaluation step => Loss: 1.8553 | Dist 7.9790\n",
      "Epoch 66/80\n",
      "----------\n"
     ]
    },
    {
     "output_type": "display_data",
     "data": {
      "text/plain": "HBox(children=(FloatProgress(value=0.0, description='Epoch [67] progress', max=96.0, style=ProgressStyle(descr…",
      "application/vnd.jupyter.widget-view+json": {
       "version_major": 2,
       "version_minor": 0,
       "model_id": "71dfb63ce4be4851a6727b65f7266805"
      }
     },
     "metadata": {}
    },
    {
     "output_type": "stream",
     "name": "stdout",
     "text": [
      "\n",
      "Training step => Loss: 0.7162 | Dist: 6.4327\n",
      "Evaluation step => Loss: 1.8824 | Dist 8.0129\n",
      "Epoch 67/80\n",
      "----------\n"
     ]
    },
    {
     "output_type": "display_data",
     "data": {
      "text/plain": "HBox(children=(FloatProgress(value=0.0, description='Epoch [68] progress', max=96.0, style=ProgressStyle(descr…",
      "application/vnd.jupyter.widget-view+json": {
       "version_major": 2,
       "version_minor": 0,
       "model_id": "9c3716715c39479f983268b10b41459d"
      }
     },
     "metadata": {}
    },
    {
     "output_type": "stream",
     "name": "stdout",
     "text": [
      "\n",
      "Training step => Loss: 0.6947 | Dist: 6.3887\n",
      "Evaluation step => Loss: 1.8618 | Dist 7.9355\n",
      "Epoch 68/80\n",
      "----------\n"
     ]
    },
    {
     "output_type": "display_data",
     "data": {
      "text/plain": "HBox(children=(FloatProgress(value=0.0, description='Epoch [69] progress', max=96.0, style=ProgressStyle(descr…",
      "application/vnd.jupyter.widget-view+json": {
       "version_major": 2,
       "version_minor": 0,
       "model_id": "5f94e20255454a46b0941621df5c8da2"
      }
     },
     "metadata": {}
    },
    {
     "output_type": "stream",
     "name": "stdout",
     "text": [
      "\n",
      "Training step => Loss: 0.6843 | Dist: 6.3582\n",
      "Evaluation step => Loss: 1.8548 | Dist 7.9855\n",
      "Epoch 69/80\n",
      "----------\n"
     ]
    },
    {
     "output_type": "display_data",
     "data": {
      "text/plain": "HBox(children=(FloatProgress(value=0.0, description='Epoch [70] progress', max=96.0, style=ProgressStyle(descr…",
      "application/vnd.jupyter.widget-view+json": {
       "version_major": 2,
       "version_minor": 0,
       "model_id": "678812bd70dd4567bf58f4fa1058b9a9"
      }
     },
     "metadata": {}
    },
    {
     "output_type": "stream",
     "name": "stdout",
     "text": [
      "\n",
      "Training step => Loss: 0.6809 | Dist: 6.3413\n",
      "Evaluation step => Loss: 1.9261 | Dist 7.9984\n",
      "Epoch 70/80\n",
      "----------\n"
     ]
    },
    {
     "output_type": "display_data",
     "data": {
      "text/plain": "HBox(children=(FloatProgress(value=0.0, description='Epoch [71] progress', max=96.0, style=ProgressStyle(descr…",
      "application/vnd.jupyter.widget-view+json": {
       "version_major": 2,
       "version_minor": 0,
       "model_id": "60d15e2ab5a641c3bde58234acddc043"
      }
     },
     "metadata": {}
    },
    {
     "output_type": "stream",
     "name": "stdout",
     "text": [
      "\n",
      "Training step => Loss: 0.6552 | Dist: 6.2832\n",
      "Evaluation step => Loss: 1.9226 | Dist 7.9403\n",
      "Epoch 71/80\n",
      "----------\n"
     ]
    },
    {
     "output_type": "display_data",
     "data": {
      "text/plain": "HBox(children=(FloatProgress(value=0.0, description='Epoch [72] progress', max=96.0, style=ProgressStyle(descr…",
      "application/vnd.jupyter.widget-view+json": {
       "version_major": 2,
       "version_minor": 0,
       "model_id": "69a41c65595c4981941d7b746caa8776"
      }
     },
     "metadata": {}
    },
    {
     "output_type": "stream",
     "name": "stdout",
     "text": [
      "\n",
      "Training step => Loss: 0.6334 | Dist: 6.2244\n",
      "Evaluation step => Loss: 1.9106 | Dist 7.9790\n",
      "Epoch 72/80\n",
      "----------\n"
     ]
    },
    {
     "output_type": "display_data",
     "data": {
      "text/plain": "HBox(children=(FloatProgress(value=0.0, description='Epoch [73] progress', max=96.0, style=ProgressStyle(descr…",
      "application/vnd.jupyter.widget-view+json": {
       "version_major": 2,
       "version_minor": 0,
       "model_id": "6724275baf5f4f02a4e81d441daf572c"
      }
     },
     "metadata": {}
    },
    {
     "output_type": "stream",
     "name": "stdout",
     "text": [
      "\n",
      "Training step => Loss: 0.6188 | Dist: 6.2065\n",
      "Evaluation step => Loss: 1.9036 | Dist 7.9710\n",
      "Epoch 73/80\n",
      "----------\n"
     ]
    },
    {
     "output_type": "display_data",
     "data": {
      "text/plain": "HBox(children=(FloatProgress(value=0.0, description='Epoch [74] progress', max=96.0, style=ProgressStyle(descr…",
      "application/vnd.jupyter.widget-view+json": {
       "version_major": 2,
       "version_minor": 0,
       "model_id": "56928c3e5c6943e0b9252015bdf233fc"
      }
     },
     "metadata": {}
    },
    {
     "output_type": "stream",
     "name": "stdout",
     "text": [
      "\n",
      "Training step => Loss: 0.6257 | Dist: 6.2179\n",
      "Evaluation step => Loss: 1.9534 | Dist 7.9081\n",
      "Epoch 74/80\n",
      "----------\n"
     ]
    },
    {
     "output_type": "display_data",
     "data": {
      "text/plain": "HBox(children=(FloatProgress(value=0.0, description='Epoch [75] progress', max=96.0, style=ProgressStyle(descr…",
      "application/vnd.jupyter.widget-view+json": {
       "version_major": 2,
       "version_minor": 0,
       "model_id": "d8d920c757b04685b296de3df9d184b3"
      }
     },
     "metadata": {}
    },
    {
     "output_type": "stream",
     "name": "stdout",
     "text": [
      "\n",
      "Training step => Loss: 0.5984 | Dist: 6.1431\n",
      "Evaluation step => Loss: 1.9450 | Dist 7.8839\n",
      "Epoch 75/80\n",
      "----------\n"
     ]
    },
    {
     "output_type": "display_data",
     "data": {
      "text/plain": "HBox(children=(FloatProgress(value=0.0, description='Epoch [76] progress', max=96.0, style=ProgressStyle(descr…",
      "application/vnd.jupyter.widget-view+json": {
       "version_major": 2,
       "version_minor": 0,
       "model_id": "d7f5513919154563aaba91ba178eb963"
      }
     },
     "metadata": {}
    },
    {
     "output_type": "stream",
     "name": "stdout",
     "text": [
      "\n",
      "Training step => Loss: 0.5837 | Dist: 6.1027\n",
      "Evaluation step => Loss: 1.9661 | Dist 8.0016\n",
      "Epoch 76/80\n",
      "----------\n"
     ]
    },
    {
     "output_type": "display_data",
     "data": {
      "text/plain": "HBox(children=(FloatProgress(value=0.0, description='Epoch [77] progress', max=96.0, style=ProgressStyle(descr…",
      "application/vnd.jupyter.widget-view+json": {
       "version_major": 2,
       "version_minor": 0,
       "model_id": "0d675d611f704d9b9fb4cdd1141d2995"
      }
     },
     "metadata": {}
    },
    {
     "output_type": "stream",
     "name": "stdout",
     "text": [
      "\n",
      "Training step => Loss: 0.5730 | Dist: 6.0898\n",
      "Evaluation step => Loss: 2.0475 | Dist 7.9339\n",
      "Epoch 77/80\n",
      "----------\n"
     ]
    },
    {
     "output_type": "display_data",
     "data": {
      "text/plain": "HBox(children=(FloatProgress(value=0.0, description='Epoch [78] progress', max=96.0, style=ProgressStyle(descr…",
      "application/vnd.jupyter.widget-view+json": {
       "version_major": 2,
       "version_minor": 0,
       "model_id": "973ee896c05f42778fef189057608ccc"
      }
     },
     "metadata": {}
    },
    {
     "output_type": "stream",
     "name": "stdout",
     "text": [
      "\n",
      "Training step => Loss: 0.5540 | Dist: 6.0352\n",
      "Evaluation step => Loss: 1.9616 | Dist 7.9629\n",
      "Epoch 78/80\n",
      "----------\n"
     ]
    },
    {
     "output_type": "display_data",
     "data": {
      "text/plain": "HBox(children=(FloatProgress(value=0.0, description='Epoch [79] progress', max=96.0, style=ProgressStyle(descr…",
      "application/vnd.jupyter.widget-view+json": {
       "version_major": 2,
       "version_minor": 0,
       "model_id": "f5f3ae06b53041ae8585c987533d7c96"
      }
     },
     "metadata": {}
    },
    {
     "output_type": "stream",
     "name": "stdout",
     "text": [
      "\n",
      "Training step => Loss: 0.5394 | Dist: 5.9963\n",
      "Evaluation step => Loss: 1.9978 | Dist 7.9226\n",
      "Epoch 79/80\n",
      "----------\n"
     ]
    },
    {
     "output_type": "display_data",
     "data": {
      "text/plain": "HBox(children=(FloatProgress(value=0.0, description='Epoch [80] progress', max=96.0, style=ProgressStyle(descr…",
      "application/vnd.jupyter.widget-view+json": {
       "version_major": 2,
       "version_minor": 0,
       "model_id": "97dc9f5ed3af48819215c91b167688b6"
      }
     },
     "metadata": {}
    },
    {
     "output_type": "stream",
     "name": "stdout",
     "text": [
      "\n",
      "Training step => Loss: 0.5318 | Dist: 5.9648\n",
      "Evaluation step => Loss: 2.0506 | Dist 7.9387\n",
      "Training complete in 12m 52s\n",
      "Best (so far) validation Acc: 0.000000\n",
      "----------\n",
      "### Final results ###\n",
      "\n",
      "Best validation Acc: 0.000000\n"
     ]
    }
   ],
   "source": [
    "since = time.time()\n",
    "for epoch in range(EPOCHS):\n",
    "\tprint('Epoch {}/{}'.format(epoch, EPOCHS))\n",
    "\tprint('-' * 10)\n",
    "\n",
    "\t########### Training step ###########\n",
    "\tmodel = model.train()\n",
    "\ttraining_loss = []\n",
    "\trunning_loss = 0.0\n",
    "\trunning_corrects = 0\n",
    "\t\t\t\n",
    "\tfor i, data in enumerate(tqdm(train_loader, desc=f\"Epoch [{epoch + 1}] progress\")):\n",
    "\n",
    "\t\tx_batch, (label_batch, label_length, label_text) = data\n",
    "\t\tx_batch, label_batch, label_length = x_batch.to(device), label_batch.to(device), label_length.to(device)\n",
    "\n",
    "\t\toptimizer.zero_grad()\n",
    "\t\toutputs = model(x_batch)\n",
    "\t\toutputs_permuted = outputs.permute((0, 2, 1))\n",
    "\n",
    "\t\t# loss = loss_criterion(outputs, label_batch, torch.full((BATCH_SIZE,), OUTPUT_SEQUENCE_LENGTH).to(device), label_length)\n",
    "\t\tloss = loss_criterion(outputs_permuted, label_batch)\n",
    "\t\tloss.backward()\n",
    "\t\toptimizer.step()\n",
    "\n",
    "\t\t# statistics\n",
    "\t\trunning_loss += loss.item() * x_batch.size(0)\n",
    "\t\tpredictions = tensorToWordSync(outputs)\n",
    "\t\trunning_corrects += batchLevenshteinDistance(predictions, label_text)\n",
    "\t\ttraining_loss.append(loss.item())\n",
    "\n",
    "\tepoch_loss = running_loss / training_dataset_size\n",
    "\tepoch_acc = running_corrects / training_dataset_size\n",
    "\n",
    "\t# tensorboard logging\n",
    "\twriter.add_scalar(\"Loss/train\", epoch_loss, epoch)\n",
    "\n",
    "\tprint('Training step => Loss: {:.4f} | Dist: {:.4f}'.format(\n",
    "\t\tepoch_loss, epoch_acc\n",
    "\t))\n",
    "\n",
    "\tscheduler.step()\n",
    "\n",
    "\n",
    "\t########### Validation step ###########\n",
    "\tmodel = model.eval()\n",
    "\tvalidation_loss = []\n",
    "\trunning_loss = 0.0\n",
    "\trunning_corrects = 0\n",
    "\n",
    "\tfor i, data in enumerate(validation_loader):\n",
    "\t\twith torch.no_grad():\n",
    "\t\t\tx_batch, (label_batch, label_length, label_text) = data\n",
    "\t\t\tx_batch, label_batch, label_length = x_batch.to(device), label_batch.to(device), label_length.to(device)\n",
    "\n",
    "\t\t\toutputs = model(x_batch)\n",
    "\t\t\toutputs_permuted = outputs.permute((0, 2, 1))\n",
    "\t\t\t# loss = loss_criterion(outputs, label_batch, torch.full((BATCH_SIZE,), OUTPUT_SEQUENCE_LENGTH).to(device), label_length)\n",
    "\t\t\tloss = loss_criterion(outputs_permuted, label_batch)\n",
    "\n",
    "\t\t\trunning_loss += loss.item() * x_batch.size(0)\n",
    "\t\t\t\n",
    "\t\t\tpredictions = tensorToWordSync(outputs)\n",
    "\t\t\trunning_corrects += batchLevenshteinDistance(predictions, label_text)\n",
    "\t\t\tvalidation_loss.append(loss.item())\n",
    "\t\t\t\n",
    "\tepoch_loss = running_loss / validation_dataset_size\n",
    "\tepoch_acc = running_corrects / validation_dataset_size\n",
    "\n",
    "\t# tensorboard logging\n",
    "\twriter.add_scalar(\"Loss/validation\", epoch_loss, epoch)\n",
    "\n",
    "\tprint('Evaluation step => Loss: {:.4f} | Dist {:.4f}'.format(\n",
    "\t\tepoch_loss, epoch_acc\n",
    "\t))\n",
    "\tbest_acc = 0\n",
    "\t#Save the best model based on accuracy\n",
    "\tif True:\n",
    "\t\tbest_model_wts = copy.deepcopy(model.state_dict())\n",
    "\n",
    "\t#Checkpoint\n",
    "\ttorch.save({\n",
    "\t\t\"epoch\": epoch,\n",
    "\t\t\"model_state_dict\": model.state_dict(),\n",
    "\t\t\"optimizer_state_dict\": optimizer.state_dict()\n",
    "\t}, \"./checkpoints/ckp.pt\")\n",
    "\n",
    "\n",
    "\n",
    "time_elapsed = time.time() - since\n",
    "print('Training complete in {:.0f}m {:.0f}s'.format(\n",
    "\ttime_elapsed // 60, time_elapsed % 60\n",
    "))\n",
    "print('Best (so far) validation Acc: {:4f}'.format(best_acc))\n",
    "\n",
    "print('-' * 10)\n",
    "print('### Final results ###\\n')\n",
    "print('Best validation Acc: {:4f}'.format(best_acc))"
   ]
  },
  {
   "cell_type": "code",
   "execution_count": null,
   "metadata": {},
   "outputs": [],
   "source": []
  },
  {
   "cell_type": "code",
   "execution_count": null,
   "metadata": {},
   "outputs": [],
   "source": []
  }
 ],
 "metadata": {
  "kernelspec": {
   "name": "python3",
   "display_name": "Python 3.7.9 64-bit ('torch': conda)",
   "metadata": {
    "interpreter": {
     "hash": "97c67d8e0382c833d1d7ff2aaf3d36bcbf66720dd18abf32e81be90b4a114af6"
    }
   }
  },
  "language_info": {
   "name": "",
   "version": "3.7.9-final"
  }
 },
 "nbformat": 4,
 "nbformat_minor": 4
}