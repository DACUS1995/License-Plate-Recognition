{
 "cells": [
  {
   "cell_type": "code",
   "execution_count": 210,
   "metadata": {},
   "outputs": [],
   "source": [
    "import torch\n",
    "import torch.nn as nn\n",
    "import torch.nn.functional as F\n",
    "import torch.optim as optim\n",
    "from torch.optim.lr_scheduler import StepLR\n",
    "from torch.utils.tensorboard import SummaryWriter\n",
    "import torchvision\n",
    "from torchvision import datasets, models, transforms as T\n",
    "from torch.utils.data.dataset import Dataset\n",
    "from torch.utils.data import DataLoader"
   ]
  },
  {
   "cell_type": "code",
   "execution_count": 211,
   "metadata": {},
   "outputs": [
    {
     "output_type": "stream",
     "name": "stdout",
     "text": [
      "Running training on [cuda]\n"
     ]
    }
   ],
   "source": [
    "from tqdm.notebook import tqdm\n",
    "import pathlib\n",
    "import os\n",
    "from PIL import Image\n",
    "import string\n",
    "from typing import Tuple\n",
    "import datetime\n",
    "import copy\n",
    "import time\n",
    "import numpy as np\n",
    "from IPython.core.interactiveshell import InteractiveShell\n",
    "InteractiveShell.ast_node_interactivity = \"all\"\n",
    "%matplotlib inline\n",
    "\n",
    "device = torch.device(\"cuda\" if torch.cuda.is_available() else \"cpu\")\n",
    "print(f\"Running training on [{device}]\")"
   ]
  },
  {
   "cell_type": "code",
   "execution_count": 212,
   "metadata": {},
   "outputs": [],
   "source": [
    "BATCH_SIZE = 128\n",
    "WORKERS = 1\n",
    "EPOCHS = 20\n",
    "MAX_WORD_LENGTH = 10\n",
    "ALPHABET = string.ascii_letters + string.digits + \"_\" #blank char for CTC\n",
    "OUTPUT_SEQUENCE_LENGTH = 25\n",
    "OUTPUT_STEP_SIZE = 5"
   ]
  },
  {
   "cell_type": "code",
   "execution_count": 213,
   "metadata": {},
   "outputs": [],
   "source": [
    "class CustomDataset(Dataset):\n",
    "\tdef __init__(self, root_path, type=\"train\"):\n",
    "\t\tself.root_path = root_path\n",
    "\t\tself.type = type\n",
    "\t\tself.images_paths = list(pathlib.Path(self.root_path + \"./images\").glob('*.png'))\n",
    "\t\tself.transforms = {\n",
    "\t\t\t'train' : T.Compose([\n",
    "\t\t\t\t# T.Resize((40,200)),\n",
    "\t\t\t\tT.RandomRotation(20),\n",
    "\t\t\t\tT.GaussianBlur(3),\n",
    "\t\t\t\tT.ToTensor()\n",
    "\t\t\t]),\n",
    "\t\t\t'valid' : T.Compose([\n",
    "\t\t\t\tT.ToTensor()\n",
    "\t\t\t])\n",
    "\t\t}\n",
    "\t\tglobal ALPHABET\n",
    "\t\tself.alphabet = ALPHABET\n",
    "\t\tself.alphabet_size = len(self.alphabet)\n",
    "\t\tprint(f\"Alphabet size: {self.alphabet_size}\")\n",
    "\n",
    "\tdef __getitem__(self, idx):\n",
    "\t\timage_path = self.images_paths[idx]\n",
    "\t\tsample_name = str(image_path).split(os.sep)[-1].split(\".\")[0]\n",
    "\t\ttext_path = self.root_path + \"/transcripts/\" + str(int(sample_name) + 1) + \".txt\"\n",
    "\n",
    "\t\timage = Image.open(image_path).convert(\"RGB\")\n",
    "\t\twith open(text_path) as f:\n",
    "\t\t\ttext = f.read()\n",
    "\n",
    "\t\timage = self.transforms[self.type](image)\n",
    "\t\ttext_tensor = self.wordToTensor(text)\n",
    "\t\treturn image, (text_tensor, len(text), text)\n",
    "\t\t\n",
    "\n",
    "\tdef __len__(self):\n",
    "\t\treturn len(self.images_paths)\n",
    "\n",
    "\tdef letterToIndex(self, letter):\n",
    "\t\treturn self.alphabet.find(letter)\n",
    "\n",
    "\tdef letterToTensor(self, letter):\n",
    "\t\ttensor = torch.zeros(1, n_letters)\n",
    "\t\ttensor[0][letterToIndex(letter)] = 1\n",
    "\t\treturn tensor\n",
    "\n",
    "\tdef wordToTensor(self, word):\n",
    "\t\t# tensor = torch.zeros(MAX_WORD_LENGTH, self.alphabet_size)\n",
    "\t\t# for li, letter in enumerate(word):\n",
    "\t\t# \ttensor[li][self.letterToIndex(letter)] = 1\n",
    "\n",
    "\t\ttensor = torch.zeros(MAX_WORD_LENGTH)\n",
    "\t\tfor li, letter in enumerate(word):\n",
    "\t\t\ttensor[li] = self.letterToIndex(letter)\n",
    "\t\treturn tensor\n"
   ]
  },
  {
   "cell_type": "code",
   "execution_count": 214,
   "metadata": {},
   "outputs": [],
   "source": [
    "class DataHandler:\n",
    "\tdef __init__(self, run_config):\n",
    "\t\tself._training_dataset = None\n",
    "\t\tself._validation_dataset = None\n",
    "\t\tself._run_config = run_config\n",
    "\n",
    "\t\tself._load_datasets()\n",
    "\t\t\n",
    "\tdef _load_datasets(self):\n",
    "\t\tself._training_dataset = CustomDataset(\"dataset/training\")\n",
    "\t\tself._validation_dataset = CustomDataset(\"dataset/validation\")\n",
    "\n",
    "\tdef get_data_loaders(self) -> Tuple[DataLoader]:\n",
    "\t\treturn (\n",
    "\t\t\tDataLoader(self._training_dataset, batch_size=self._run_config[\"batch_size\"], shuffle=True, pin_memory=True, drop_last=True), \n",
    "\t\t\tDataLoader(self._validation_dataset, batch_size=self._run_config[\"batch_size\"], shuffle=True, pin_memory=True, drop_last=True)\n",
    "\t\t)\n",
    "\n",
    "\tdef get_datasets(self) -> Tuple[Dataset]:\n",
    "\t\treturn self._training_dataset, self._validation_dataset\n",
    "\n",
    "\tdef get_datasets_sizes(self) -> Tuple[int]:\n",
    "\t\treturn len(self._training_dataset), len(self._validation_dataset)"
   ]
  },
  {
   "cell_type": "code",
   "execution_count": 215,
   "metadata": {},
   "outputs": [
    {
     "output_type": "stream",
     "name": "stdout",
     "text": [
      "Alphabet size: 63\nAlphabet size: 63\n"
     ]
    }
   ],
   "source": [
    "data_handler = DataHandler(run_config = {\n",
    "    \"batch_size\": BATCH_SIZE,\n",
    "    \"workers\": WORKERS\n",
    "})\n",
    "train_loader, validation_loader = data_handler.get_data_loaders()\n",
    "training_dataset_size, validation_dataset_size = data_handler.get_datasets_sizes()"
   ]
  },
  {
   "cell_type": "code",
   "execution_count": 216,
   "metadata": {},
   "outputs": [],
   "source": [
    "class TranscribeModel(nn.Module):\n",
    "    def __init__(self):\n",
    "        super(TranscribeModel, self).__init__()\n",
    "        self.conv_block1 = nn.Sequential(\n",
    "\t\t\tnn.Conv2d(in_channels=3, out_channels=16, kernel_size=3, padding=1),\n",
    "\t\t\tnn.MaxPool2d(kernel_size=(2, 2)),\n",
    "\t\t\tnn.BatchNorm2d(16),\n",
    "\t\t\tnn.LeakyReLU(0.2, inplace=True),\n",
    "\n",
    "\t\t\tnn.Conv2d(in_channels=16, out_channels=32, kernel_size=3, padding=1),\n",
    "\t\t\tnn.MaxPool2d(kernel_size=(2, 2)),\n",
    "\t\t\tnn.BatchNorm2d(32),\n",
    "\t\t\tnn.LeakyReLU(0.2, inplace=True)\n",
    "\t\t)\n",
    "\n",
    "        self.rnn_block1 = nn.Sequential(\n",
    "            nn.LSTM(input_size=OUTPUT_STEP_SIZE * 32, hidden_size=len(ALPHABET), num_layers=2, batch_first=True, bidirectional=True)\n",
    "        )\n",
    "\n",
    "        self.softmax = nn.LogSoftmax(dim=2)\n",
    "\n",
    "    def forward(self, input):\n",
    "        out = self.conv_block1(input)\n",
    "        # print(out.shape) #[128, 32, 10, 50]\n",
    "        out = out.permute([0, 3, 2, 1])\n",
    "        # (B, S, ) \n",
    "        out = out.reshape(out.size(0), out.size(1), -1)\n",
    "\n",
    "        out, (_, _) = self.rnn_block1(out)\n",
    "        out = self.softmax(out)\n",
    "        return out"
   ]
  },
  {
   "cell_type": "code",
   "execution_count": 217,
   "metadata": {},
   "outputs": [
    {
     "output_type": "execute_result",
     "data": {
      "text/plain": [
       "TranscribeModel(\n",
       "  (conv_block1): Sequential(\n",
       "    (0): Conv2d(3, 16, kernel_size=(3, 3), stride=(1, 1), padding=(1, 1))\n",
       "    (1): MaxPool2d(kernel_size=(2, 2), stride=(2, 2), padding=0, dilation=1, ceil_mode=False)\n",
       "    (2): BatchNorm2d(16, eps=1e-05, momentum=0.1, affine=True, track_running_stats=True)\n",
       "    (3): LeakyReLU(negative_slope=0.2, inplace=True)\n",
       "    (4): Conv2d(16, 32, kernel_size=(3, 3), stride=(1, 1), padding=(1, 1))\n",
       "    (5): MaxPool2d(kernel_size=(2, 2), stride=(2, 2), padding=0, dilation=1, ceil_mode=False)\n",
       "    (6): BatchNorm2d(32, eps=1e-05, momentum=0.1, affine=True, track_running_stats=True)\n",
       "    (7): LeakyReLU(negative_slope=0.2, inplace=True)\n",
       "  )\n",
       "  (rnn_block1): Sequential(\n",
       "    (0): LSTM(160, 63, num_layers=2, batch_first=True, bidirectional=True)\n",
       "  )\n",
       "  (softmax): LogSoftmax(dim=2)\n",
       ")"
      ]
     },
     "metadata": {},
     "execution_count": 217
    }
   ],
   "source": [
    "model = TranscribeModel()\n",
    "model.to(device)\n",
    "optimizer = optim.AdamW(\n",
    "    model.parameters(), \n",
    "    lr=0.0001, \n",
    "    betas=(0.9, 0.999), \n",
    "    eps=1e-08, \n",
    "    weight_decay=1e-4\n",
    ")\n",
    "scheduler = torch.optim.lr_scheduler.ReduceLROnPlateau(optimizer, mode='max', factor=0.5, patience=2)\n",
    "loss_criterion = nn.CTCLoss(blank=len(ALPHABET)-1, zero_infinity=True, reduction=\"mean\")\n",
    "scheduler = torch.optim.lr_scheduler.OneCycleLR(optimizer, max_lr=0.001, steps_per_epoch=10, epochs=EPOCHS, anneal_strategy='linear')\n",
    "\n",
    "log_dir = \"logs/\" + datetime.datetime.now().strftime(\"%Y%m%d-%H%M%S\")\n",
    "writer = SummaryWriter(log_dir)"
   ]
  },
  {
   "cell_type": "code",
   "execution_count": 218,
   "metadata": {},
   "outputs": [],
   "source": [
    "def tensorToWord(tensor):\n",
    "\ttensor = tensor[..., :63]\n",
    "\tindices = torch.argmax(tensor, dim=2).tolist()\n",
    "\t\n",
    "\twords = []\n",
    "\tfor batch_idx in range(BATCH_SIZE):\n",
    "\t\tcur_word_indices = indices[batch_idx]\n",
    "\t\tcur_word = []\n",
    "\t\tlast_letter = None\n",
    "\t\tfor idx in range(OUTPUT_SEQUENCE_LENGTH):\n",
    "\t\t\tif ALPHABET[cur_word_indices[idx]] == ALPHABET[-1]:\n",
    "\t\t\t\tlast_letter = None\n",
    "\t\t\t\tcontinue\n",
    "\t\t\telse:\n",
    "\t\t\t\tif last_letter == None or (last_letter is not None and last_letter != cur_word_indices[idx]):\n",
    "\t\t\t\t\tcur_word.append(ALPHABET[cur_word_indices[idx]])\n",
    "\t\t\t\t\tlast_letter = cur_word_indices[idx]\n",
    "\t\t\t\t\tcontinue\n",
    "\t\twords.append(\"\".join(cur_word))\n",
    "\treturn words\n",
    "\n",
    "\t"
   ]
  },
  {
   "cell_type": "code",
   "execution_count": 219,
   "metadata": {},
   "outputs": [],
   "source": [
    "def levenshteinDistance(string_one, string_two):\n",
    "    dist = np.zeros((len(string_one) + 1, len(string_two) + 1))\n",
    "    dist[1:, 0] = [i + 1 for i in range(len(string_one))]\n",
    "    dist[0, 1:] = [i + 1 for i in range(len(string_two))]\n",
    "\n",
    "    for row in range(1, len(string_one) + 1):\n",
    "        for col in range(1, len(string_two) + 1):\n",
    "            gain = 1\n",
    "            if string_one[row - 1] == string_two[col -1]:\n",
    "                dist[row, col] = dist[row - 1, col -1]\n",
    "            else:\n",
    "                dist[row, col] = gain + min(dist[row - 1, col], dist[row, col - 1], dist[row - 1, col - 1])\n",
    "    \n",
    "    return dist[-1,-1]\n",
    "\n",
    "def batchLevenshteinDistance(arr_one, arr_two):\n",
    "    cumulative_distance = 0\n",
    "    for idx in range(len(arr_one)):\n",
    "        cumulative_distance += levenshteinDistance(arr_one[idx], arr_two[idx])\n",
    "    return cumulative_distance\n"
   ]
  },
  {
   "cell_type": "code",
   "execution_count": 223,
   "metadata": {},
   "outputs": [
    {
     "output_type": "stream",
     "name": "stdout",
     "text": [
      "tensor([ 6,  4,  4,  4,  4,  5,  5,  3,  1,  8, 10,  2,  7,  1,  8,  7,  9,  6,\n        10,  3,  2,  9,  8,  5,  8,  9,  8,  3,  9,  4, 10,  8,  3, 10,  8,  7,\n         3,  2,  3,  4,  9,  5,  4,  1,  7,  2, 10,  5,  6,  4,  8,  5,  7,  5,\n         1,  7,  9,  1,  5,  9,  1,  8,  9,  1, 10,  5,  2,  4, 10,  5,  7,  8,\n         2,  4,  4,  1,  2,  6,  9,  2,  8,  1,  4,  7, 10,  3,  9,  6,  2,  1,\n         1,  4,  4,  1,  6,  7,  6,  8,  5, 10,  8, 10,  4,  4,  7,  3,  9,  7,\n         2,  5,  9, 10,  5,  6,  1,  8,  4,  1,  9,  2,  1,  6,  3, 10,  5,  7,\n         7,  5])\n"
     ]
    }
   ],
   "source": [
    "image, (label_tensor, text_length, label_text) = iter(train_loader).next()\n",
    "image, label_tensor = image.to(device), label_tensor.to(device)\n",
    "output = model(image)\n",
    "print(text_length)"
   ]
  },
  {
   "cell_type": "code",
   "execution_count": 224,
   "metadata": {},
   "outputs": [
    {
     "output_type": "execute_result",
     "data": {
      "text/plain": [
       "torch.Size([128, 25, 126])"
      ]
     },
     "metadata": {},
     "execution_count": 224
    },
    {
     "output_type": "stream",
     "name": "stdout",
     "text": [
      ">>>>>>> label_text <<<<<<<\n['wlA1iH', '3G4S', 'asOy', 'qPa6', '3vBR', 'OkDkN', '0w2Sf', 'cbF', 'e', 'mEjW3Fjz', 'Wq8p6S4Gse', 'XO', 'ZzmdIgr', 'X', 'rTs8amUO', 'zyEAFWB', '0Agek7n3p', 'xc8mtY', 'nQwEJBVtCj', 'TvW', 'Qh', 'UAdyNGSg6', 'gH0X9sbs', 'Ibznk', 'Af9lbBuv', 'MtWYaEHmU', 'a8pGe1ks', 'hMr', 'cYV4rLkPa', 'f0ah', 'EsQQIbeYCm', 'ZbVd45EJ', '9XC', 'bPFBqvP5Xe', 'M9aG2LCE', 'CPSy6kV', 'fp9', 'f4', 'mjK', 'CFUh', 'GnEgTLW0c', '5jWOu', 'gnts', 'E', 'T9VZVH2', '6d', '8Y1hiftC0X', 'dWBbL', '4CJFHJ', 'ios5', '5PNxH1hu', 'auj1A', 'Lz0qE6M', 'zGYZs', 'g', 'MCGlYSh', 'eIE4SgIl9', 'b', 'oWgNY', '0Ptmnpnz9', 'u', 'kzLwuKuC', 'vbw8sEZma', '9', 'ifZaRNIenI', 'Kzbqf', '7c', 'VdZ5', 'oVcRtCSQC7', 'KWAXi', 'jcCwJWV', 'XfB8Hwyp', '3E', 'nImH', 'xaos', '4', 'KR', 'vA1ihq', 'zgsLaXlPq', 'BS', '38gdY1Ay', 'y', '7Lxt', 'Urm90Ag', 'LdWIY04yaQ', 'uhm', 'kI3xnzVA6', '4Zo68U', '8o', 's', 'A', '08wS', 'MZlC', 'm', 'yX8DIE', 'VAfwNlj', '8fvLMj', '9IzF2jZY', 'eRqGR', 'V3chJ3RJkP', 'cW8DRwsI', 'bKZOOBiprd', 'ytQ1', 't9mP', 'kp7KJoz', 'BFo', '1cmMGwkgH', 'hiq6ntJ', 'ci', 'WGK5F', '3rFgKbzrH', 'ukirCOsylM', 'ic1aE', '9Koe7f', 'P', 'D6oloe5a', '5f9i', '2', 'ZUw2oghC9', 'Bt', 'f', 'wuB7bM', 'Noq', 'cUA3I3kVU9', 'nBgfK', '6DKf7kG', 'HJoiKdP', '06MYc']\n>>>>>>> label_tensor <<<<<<<\ntensor([[22., 11., 26.,  ...,  0.,  0.,  0.],\n        [55., 32., 56.,  ...,  0.,  0.,  0.],\n        [ 0., 18., 40.,  ...,  0.,  0.,  0.],\n        ...,\n        [58., 29., 36.,  ...,  0.,  0.,  0.],\n        [33., 35., 14.,  ...,  0.,  0.,  0.],\n        [52., 58., 38.,  ...,  0.,  0.,  0.]], device='cuda:0')\n>>>>>>> output <<<<<<<<\ntensor([[[-4.7293, -4.7531, -4.7608,  ..., -5.0113, -5.0109, -5.0112],\n         [-4.8552, -4.8616, -4.8661,  ..., -4.9063, -4.9060, -4.9062],\n         [-4.8803, -4.8821, -4.8834,  ..., -4.8894, -4.8891, -4.8894],\n         ...,\n         [-4.8882, -4.8888, -4.8890,  ..., -4.8828, -4.8828, -4.8830],\n         [-4.9049, -4.9056, -4.9058,  ..., -4.8657, -4.8650, -4.8661],\n         [-5.0130, -5.0137, -5.0139,  ..., -4.7648, -4.7604, -4.7673]],\n\n        [[-4.7283, -4.7523, -4.7607,  ..., -5.0112, -5.0108, -5.0111],\n         [-4.8550, -4.8611, -4.8661,  ..., -4.9064, -4.9060, -4.9063],\n         [-4.8803, -4.8819, -4.8834,  ..., -4.8893, -4.8891, -4.8893],\n         ...,\n         [-4.8882, -4.8888, -4.8890,  ..., -4.8828, -4.8829, -4.8830],\n         [-4.9048, -4.9055, -4.9057,  ..., -4.8657, -4.8651, -4.8663],\n         [-5.0132, -5.0139, -5.0141,  ..., -4.7645, -4.7601, -4.7673]],\n\n        [[-4.7284, -4.7522, -4.7609,  ..., -5.0113, -5.0109, -5.0112],\n         [-4.8555, -4.8614, -4.8662,  ..., -4.9060, -4.9057, -4.9059],\n         [-4.8803, -4.8820, -4.8834,  ..., -4.8893, -4.8890, -4.8892],\n         ...,\n         [-4.8881, -4.8888, -4.8890,  ..., -4.8828, -4.8828, -4.8830],\n         [-4.9048, -4.9056, -4.9058,  ..., -4.8657, -4.8650, -4.8661],\n         [-5.0133, -5.0141, -5.0144,  ..., -4.7642, -4.7595, -4.7671]],\n\n        ...,\n\n        [[-4.7295, -4.7529, -4.7610,  ..., -5.0118, -5.0113, -5.0117],\n         [-4.8556, -4.8617, -4.8662,  ..., -4.9061, -4.9058, -4.9060],\n         [-4.8803, -4.8821, -4.8834,  ..., -4.8893, -4.8891, -4.8893],\n         ...,\n         [-4.8882, -4.8888, -4.8889,  ..., -4.8828, -4.8829, -4.8831],\n         [-4.9048, -4.9055, -4.9057,  ..., -4.8657, -4.8651, -4.8664],\n         [-5.0135, -5.0143, -5.0145,  ..., -4.7646, -4.7598, -4.7671]],\n\n        [[-4.7301, -4.7530, -4.7610,  ..., -5.0122, -5.0117, -5.0120],\n         [-4.8559, -4.8616, -4.8662,  ..., -4.9061, -4.9058, -4.9060],\n         [-4.8804, -4.8821, -4.8834,  ..., -4.8893, -4.8891, -4.8893],\n         ...,\n         [-4.8882, -4.8888, -4.8889,  ..., -4.8828, -4.8829, -4.8831],\n         [-4.9049, -4.9055, -4.9056,  ..., -4.8657, -4.8651, -4.8665],\n         [-5.0139, -5.0147, -5.0149,  ..., -4.7645, -4.7594, -4.7671]],\n\n        [[-4.7281, -4.7524, -4.7609,  ..., -5.0110, -5.0106, -5.0109],\n         [-4.8551, -4.8616, -4.8662,  ..., -4.9059, -4.9056, -4.9058],\n         [-4.8803, -4.8821, -4.8834,  ..., -4.8893, -4.8890, -4.8892],\n         ...,\n         [-4.8882, -4.8888, -4.8890,  ..., -4.8828, -4.8828, -4.8830],\n         [-4.9048, -4.9056, -4.9058,  ..., -4.8657, -4.8650, -4.8661],\n         [-5.0129, -5.0136, -5.0138,  ..., -4.7649, -4.7606, -4.7673]]],\n       device='cuda:0', grad_fn=<LogSoftmaxBackward>)\n"
     ]
    },
    {
     "output_type": "execute_result",
     "data": {
      "text/plain": [
       "['',\n",
       " '',\n",
       " '',\n",
       " '',\n",
       " '',\n",
       " '',\n",
       " '',\n",
       " '',\n",
       " '',\n",
       " '',\n",
       " '',\n",
       " '',\n",
       " '',\n",
       " '',\n",
       " '',\n",
       " '',\n",
       " '',\n",
       " '',\n",
       " '',\n",
       " '',\n",
       " '',\n",
       " '',\n",
       " '',\n",
       " '',\n",
       " '',\n",
       " '',\n",
       " '',\n",
       " '',\n",
       " '',\n",
       " '',\n",
       " '',\n",
       " '',\n",
       " '',\n",
       " '',\n",
       " '',\n",
       " '',\n",
       " '',\n",
       " '',\n",
       " '',\n",
       " '',\n",
       " '',\n",
       " '',\n",
       " '',\n",
       " '',\n",
       " '',\n",
       " '',\n",
       " '',\n",
       " '',\n",
       " '',\n",
       " '',\n",
       " '',\n",
       " '',\n",
       " '',\n",
       " '',\n",
       " '',\n",
       " '',\n",
       " '',\n",
       " '',\n",
       " '',\n",
       " '',\n",
       " '',\n",
       " '',\n",
       " '',\n",
       " '',\n",
       " '',\n",
       " '',\n",
       " '',\n",
       " '',\n",
       " '',\n",
       " '',\n",
       " '',\n",
       " '',\n",
       " '',\n",
       " '',\n",
       " '',\n",
       " '',\n",
       " '',\n",
       " '',\n",
       " '',\n",
       " '',\n",
       " '',\n",
       " '',\n",
       " '',\n",
       " '',\n",
       " '',\n",
       " '',\n",
       " '',\n",
       " '',\n",
       " '',\n",
       " '',\n",
       " '',\n",
       " '',\n",
       " '',\n",
       " '',\n",
       " '',\n",
       " '',\n",
       " '',\n",
       " '',\n",
       " '',\n",
       " '',\n",
       " '',\n",
       " '',\n",
       " '',\n",
       " '',\n",
       " '',\n",
       " '',\n",
       " '',\n",
       " '',\n",
       " '',\n",
       " '',\n",
       " '',\n",
       " '',\n",
       " '',\n",
       " '',\n",
       " '',\n",
       " '',\n",
       " '',\n",
       " '',\n",
       " '',\n",
       " '',\n",
       " '',\n",
       " '',\n",
       " '',\n",
       " '',\n",
       " '',\n",
       " '',\n",
       " '',\n",
       " '']"
      ]
     },
     "metadata": {},
     "execution_count": 224
    }
   ],
   "source": [
    "output.shape\n",
    "out = output[..., :63]\n",
    "# torch.argmax(out, dim=2)\n",
    "print(\">>>>>>> label_text <<<<<<<\")\n",
    "print(label_text)\n",
    "\n",
    "print(\">>>>>>> label_tensor <<<<<<<\")\n",
    "print(label_tensor)\n",
    "\n",
    "print(\">>>>>>> output <<<<<<<<\")\n",
    "print(output)\n",
    "\n",
    "tensorToWord(out)"
   ]
  },
  {
   "cell_type": "code",
   "execution_count": 222,
   "metadata": {},
   "outputs": [
    {
     "output_type": "stream",
     "name": "stdout",
     "text": [
      "Epoch 0/20\n----------\n"
     ]
    },
    {
     "output_type": "display_data",
     "data": {
      "text/plain": "HBox(children=(FloatProgress(value=0.0, description='Epoch [1] progress', max=48.0, style=ProgressStyle(descri…",
      "application/vnd.jupyter.widget-view+json": {
       "version_major": 2,
       "version_minor": 0,
       "model_id": "8ddd7340954e450e9a611a7744f32388"
      }
     },
     "metadata": {}
    },
    {
     "output_type": "stream",
     "name": "stdout",
     "text": [
      "\n",
      "Training step => Loss: 31.3369 | Dist: 6.5242\n",
      "Evaluation step => Loss: 26.2891 | Dist 4.3871\n",
      "Epoch 1/20\n",
      "----------\n"
     ]
    },
    {
     "output_type": "display_data",
     "data": {
      "text/plain": "HBox(children=(FloatProgress(value=0.0, description='Epoch [2] progress', max=48.0, style=ProgressStyle(descri…",
      "application/vnd.jupyter.widget-view+json": {
       "version_major": 2,
       "version_minor": 0,
       "model_id": "079352a1450c478b9fc1430f002c257b"
      }
     },
     "metadata": {}
    },
    {
     "output_type": "stream",
     "name": "stdout",
     "text": [
      "\n",
      "Training step => Loss: 30.1149 | Dist: 5.3958\n",
      "Evaluation step => Loss: 24.4581 | Dist 4.3839\n",
      "Epoch 2/20\n",
      "----------\n"
     ]
    },
    {
     "output_type": "display_data",
     "data": {
      "text/plain": "HBox(children=(FloatProgress(value=0.0, description='Epoch [3] progress', max=48.0, style=ProgressStyle(descri…",
      "application/vnd.jupyter.widget-view+json": {
       "version_major": 2,
       "version_minor": 0,
       "model_id": "d90c9a4eaea74268832a558ebd24ff14"
      }
     },
     "metadata": {}
    },
    {
     "output_type": "stream",
     "name": "stdout",
     "text": [
      "\n",
      "Training step => Loss: 27.5865 | Dist: 5.4139\n",
      "Evaluation step => Loss: 20.7836 | Dist 4.5516\n",
      "Epoch 3/20\n",
      "----------\n"
     ]
    },
    {
     "output_type": "display_data",
     "data": {
      "text/plain": "HBox(children=(FloatProgress(value=0.0, description='Epoch [4] progress', max=48.0, style=ProgressStyle(descri…",
      "application/vnd.jupyter.widget-view+json": {
       "version_major": 2,
       "version_minor": 0,
       "model_id": "de0bfb2f22434814a307a423d11cbf81"
      }
     },
     "metadata": {}
    },
    {
     "output_type": "stream",
     "name": "stdout",
     "text": [
      "\n",
      "Training step => Loss: 25.1225 | Dist: 5.4079\n",
      "Evaluation step => Loss: 20.3415 | Dist 4.4129\n",
      "Epoch 4/20\n",
      "----------\n"
     ]
    },
    {
     "output_type": "display_data",
     "data": {
      "text/plain": "HBox(children=(FloatProgress(value=0.0, description='Epoch [5] progress', max=48.0, style=ProgressStyle(descri…",
      "application/vnd.jupyter.widget-view+json": {
       "version_major": 2,
       "version_minor": 0,
       "model_id": "00f850c17b614beb8a79f0ccea3fba2f"
      }
     },
     "metadata": {}
    },
    {
     "output_type": "stream",
     "name": "stdout",
     "text": [
      "\n",
      "Training step => Loss: 23.5602 | Dist: 5.4106\n",
      "Evaluation step => Loss: 17.9795 | Dist 4.5258\n",
      "Epoch 5/20\n",
      "----------\n"
     ]
    },
    {
     "output_type": "display_data",
     "data": {
      "text/plain": "HBox(children=(FloatProgress(value=0.0, description='Epoch [6] progress', max=48.0, style=ProgressStyle(descri…",
      "application/vnd.jupyter.widget-view+json": {
       "version_major": 2,
       "version_minor": 0,
       "model_id": "3ac4e2f06ca64dc9ac7bcf1d2c426f41"
      }
     },
     "metadata": {}
    },
    {
     "output_type": "stream",
     "name": "stdout",
     "text": [
      "\n",
      "Training step => Loss: 22.4290 | Dist: 5.4079\n",
      "Evaluation step => Loss: 17.9040 | Dist 4.4871\n",
      "Epoch 6/20\n",
      "----------\n"
     ]
    },
    {
     "output_type": "display_data",
     "data": {
      "text/plain": "HBox(children=(FloatProgress(value=0.0, description='Epoch [7] progress', max=48.0, style=ProgressStyle(descri…",
      "application/vnd.jupyter.widget-view+json": {
       "version_major": 2,
       "version_minor": 0,
       "model_id": "5a196ab33caa4bc5a3e0784dc8f2f7c9"
      }
     },
     "metadata": {}
    },
    {
     "output_type": "stream",
     "name": "stdout",
     "text": [
      "\n",
      "Training step => Loss: 21.7630 | Dist: 5.4058\n",
      "Evaluation step => Loss: 17.5179 | Dist 4.5016\n",
      "Epoch 7/20\n",
      "----------\n"
     ]
    },
    {
     "output_type": "display_data",
     "data": {
      "text/plain": "HBox(children=(FloatProgress(value=0.0, description='Epoch [8] progress', max=48.0, style=ProgressStyle(descri…",
      "application/vnd.jupyter.widget-view+json": {
       "version_major": 2,
       "version_minor": 0,
       "model_id": "c5ba49c966bf457486f41499cfcdca71"
      }
     },
     "metadata": {}
    },
    {
     "output_type": "stream",
     "name": "stdout",
     "text": [
      "\n",
      "Training step => Loss: 21.4845 | Dist: 5.4044\n",
      "Evaluation step => Loss: 17.2680 | Dist 4.4419\n",
      "Epoch 8/20\n",
      "----------\n"
     ]
    },
    {
     "output_type": "display_data",
     "data": {
      "text/plain": "HBox(children=(FloatProgress(value=0.0, description='Epoch [9] progress', max=48.0, style=ProgressStyle(descri…",
      "application/vnd.jupyter.widget-view+json": {
       "version_major": 2,
       "version_minor": 0,
       "model_id": "d4e00a58fa564281b9699b863be5ffc3"
      }
     },
     "metadata": {}
    },
    {
     "output_type": "stream",
     "name": "stdout",
     "text": [
      "\n",
      "Training step => Loss: 21.3541 | Dist: 5.4027\n",
      "Evaluation step => Loss: 17.3930 | Dist 4.4645\n",
      "Epoch 9/20\n",
      "----------\n"
     ]
    },
    {
     "output_type": "display_data",
     "data": {
      "text/plain": "HBox(children=(FloatProgress(value=0.0, description='Epoch [10] progress', max=48.0, style=ProgressStyle(descr…",
      "application/vnd.jupyter.widget-view+json": {
       "version_major": 2,
       "version_minor": 0,
       "model_id": "3aad1c2cda21420a975257657f72354b"
      }
     },
     "metadata": {}
    },
    {
     "output_type": "stream",
     "name": "stdout",
     "text": [
      "\n",
      "Training step => Loss: 21.3081 | Dist: 5.4097\n",
      "Evaluation step => Loss: 17.2609 | Dist 4.4645\n",
      "Epoch 10/20\n",
      "----------\n"
     ]
    },
    {
     "output_type": "display_data",
     "data": {
      "text/plain": "HBox(children=(FloatProgress(value=0.0, description='Epoch [11] progress', max=48.0, style=ProgressStyle(descr…",
      "application/vnd.jupyter.widget-view+json": {
       "version_major": 2,
       "version_minor": 0,
       "model_id": "2d262c8eceb84d15b0f31ef3a8d3874f"
      }
     },
     "metadata": {}
    },
    {
     "output_type": "stream",
     "name": "stdout",
     "text": [
      "\n",
      "Training step => Loss: 21.3000 | Dist: 5.4055\n",
      "Evaluation step => Loss: 17.7164 | Dist 4.4097\n",
      "Epoch 11/20\n",
      "----------\n"
     ]
    },
    {
     "output_type": "display_data",
     "data": {
      "text/plain": "HBox(children=(FloatProgress(value=0.0, description='Epoch [12] progress', max=48.0, style=ProgressStyle(descr…",
      "application/vnd.jupyter.widget-view+json": {
       "version_major": 2,
       "version_minor": 0,
       "model_id": "debdad699caa4e568473e11e037e71b2"
      }
     },
     "metadata": {}
    },
    {
     "output_type": "stream",
     "name": "stdout",
     "text": [
      "\n",
      "Training step => Loss: 21.2810 | Dist: 5.4015\n",
      "Evaluation step => Loss: 17.5225 | Dist 4.4226\n",
      "Epoch 12/20\n",
      "----------\n"
     ]
    },
    {
     "output_type": "display_data",
     "data": {
      "text/plain": "HBox(children=(FloatProgress(value=0.0, description='Epoch [13] progress', max=48.0, style=ProgressStyle(descr…",
      "application/vnd.jupyter.widget-view+json": {
       "version_major": 2,
       "version_minor": 0,
       "model_id": "d1dbaaecd6be4b5cb2e3e83feb49c6c2"
      }
     },
     "metadata": {}
    },
    {
     "output_type": "stream",
     "name": "stdout",
     "text": [
      "\n",
      "Training step => Loss: 21.2057 | Dist: 5.4110\n",
      "Evaluation step => Loss: 17.2110 | Dist 4.4694\n",
      "Epoch 13/20\n",
      "----------\n"
     ]
    },
    {
     "output_type": "display_data",
     "data": {
      "text/plain": "HBox(children=(FloatProgress(value=0.0, description='Epoch [14] progress', max=48.0, style=ProgressStyle(descr…",
      "application/vnd.jupyter.widget-view+json": {
       "version_major": 2,
       "version_minor": 0,
       "model_id": "f50777c3ee60435cad72a16b09f6596f"
      }
     },
     "metadata": {}
    },
    {
     "output_type": "stream",
     "name": "stdout",
     "text": [
      "\n",
      "Training step => Loss: 21.2365 | Dist: 5.4085\n",
      "Evaluation step => Loss: 17.1271 | Dist 4.4839\n",
      "Epoch 14/20\n",
      "----------\n"
     ]
    },
    {
     "output_type": "display_data",
     "data": {
      "text/plain": "HBox(children=(FloatProgress(value=0.0, description='Epoch [15] progress', max=48.0, style=ProgressStyle(descr…",
      "application/vnd.jupyter.widget-view+json": {
       "version_major": 2,
       "version_minor": 0,
       "model_id": "7de7827443994bbba918b4cc4c60a228"
      }
     },
     "metadata": {}
    },
    {
     "output_type": "stream",
     "name": "stdout",
     "text": [
      "\n",
      "Training step => Loss: 21.2247 | Dist: 5.4105\n",
      "Evaluation step => Loss: 17.2019 | Dist 4.4355\n",
      "Epoch 15/20\n",
      "----------\n"
     ]
    },
    {
     "output_type": "display_data",
     "data": {
      "text/plain": "HBox(children=(FloatProgress(value=0.0, description='Epoch [16] progress', max=48.0, style=ProgressStyle(descr…",
      "application/vnd.jupyter.widget-view+json": {
       "version_major": 2,
       "version_minor": 0,
       "model_id": "92de6b463ef944789311c57e8189f18d"
      }
     },
     "metadata": {}
    },
    {
     "output_type": "stream",
     "name": "stdout",
     "text": [
      "\n",
      "Training step => Loss: 21.2528 | Dist: 5.4011\n",
      "Evaluation step => Loss: 17.6210 | Dist 4.4548\n",
      "Epoch 16/20\n",
      "----------\n"
     ]
    },
    {
     "output_type": "display_data",
     "data": {
      "text/plain": "HBox(children=(FloatProgress(value=0.0, description='Epoch [17] progress', max=48.0, style=ProgressStyle(descr…",
      "application/vnd.jupyter.widget-view+json": {
       "version_major": 2,
       "version_minor": 0,
       "model_id": "61bd0c81184a49298da7fdcfb80776ac"
      }
     },
     "metadata": {}
    },
    {
     "output_type": "stream",
     "name": "stdout",
     "text": [
      "\n",
      "Training step => Loss: 21.2059 | Dist: 5.4074\n",
      "Evaluation step => Loss: 17.0845 | Dist 4.4806\n",
      "Epoch 17/20\n",
      "----------\n"
     ]
    },
    {
     "output_type": "display_data",
     "data": {
      "text/plain": "HBox(children=(FloatProgress(value=0.0, description='Epoch [18] progress', max=48.0, style=ProgressStyle(descr…",
      "application/vnd.jupyter.widget-view+json": {
       "version_major": 2,
       "version_minor": 0,
       "model_id": "1fa54205a1e94690a2261d263121a060"
      }
     },
     "metadata": {}
    },
    {
     "output_type": "stream",
     "name": "stdout",
     "text": [
      "\n",
      "Training step => Loss: 21.2040 | Dist: 5.4058\n",
      "Evaluation step => Loss: 17.4289 | Dist 4.4645\n",
      "Epoch 18/20\n",
      "----------\n"
     ]
    },
    {
     "output_type": "display_data",
     "data": {
      "text/plain": "HBox(children=(FloatProgress(value=0.0, description='Epoch [19] progress', max=48.0, style=ProgressStyle(descr…",
      "application/vnd.jupyter.widget-view+json": {
       "version_major": 2,
       "version_minor": 0,
       "model_id": "b753036382dc4805805473e055e19f2d"
      }
     },
     "metadata": {}
    },
    {
     "output_type": "stream",
     "name": "stdout",
     "text": [
      "\n",
      "Training step => Loss: 21.2160 | Dist: 5.4103\n",
      "Evaluation step => Loss: 17.7020 | Dist 4.4129\n",
      "Epoch 19/20\n",
      "----------\n"
     ]
    },
    {
     "output_type": "display_data",
     "data": {
      "text/plain": "HBox(children=(FloatProgress(value=0.0, description='Epoch [20] progress', max=48.0, style=ProgressStyle(descr…",
      "application/vnd.jupyter.widget-view+json": {
       "version_major": 2,
       "version_minor": 0,
       "model_id": "d7cc6c9479364312a88f37e08e38ac8e"
      }
     },
     "metadata": {}
    },
    {
     "output_type": "stream",
     "name": "stdout",
     "text": [
      "\n",
      "Training step => Loss: 21.2078 | Dist: 5.4034\n",
      "Evaluation step => Loss: 17.4039 | Dist 4.4419\n",
      "Training complete in 2m 50s\n",
      "Best (so far) validation Acc: 0.000000\n",
      "----------\n",
      "### Final results ###\n",
      "\n",
      "Best validation Acc: 0.000000\n"
     ]
    },
    {
     "output_type": "execute_result",
     "data": {
      "text/plain": [
       "<All keys matched successfully>"
      ]
     },
     "metadata": {},
     "execution_count": 222
    }
   ],
   "source": [
    "since = time.time()\n",
    "for epoch in range(EPOCHS):\n",
    "\tprint('Epoch {}/{}'.format(epoch, EPOCHS))\n",
    "\tprint('-' * 10)\n",
    "\n",
    "\t########### Training step ###########\n",
    "\tmodel = model.train()\n",
    "\ttraining_loss = []\n",
    "\trunning_loss = 0.0\n",
    "\trunning_corrects = 0\n",
    "\t\t\t\n",
    "\tfor i, data in enumerate(tqdm(train_loader, desc=f\"Epoch [{epoch + 1}] progress\")):\n",
    "\n",
    "\t\tx_batch, (label_batch, label_length, label_text) = data\n",
    "\t\tx_batch, label_batch, label_length = x_batch.to(device), label_batch.to(device), label_length.to(device)\n",
    "\n",
    "\t\toptimizer.zero_grad()\n",
    "\t\toutputs = model(x_batch)\n",
    "\t\toutputs_permuted = outputs.permute((1, 0, 2))\n",
    "\n",
    "\t\tloss = loss_criterion(outputs_permuted, label_batch, torch.full((BATCH_SIZE,), OUTPUT_SEQUENCE_LENGTH).to(device), label_length)\n",
    "\n",
    "\t\tloss.backward()\n",
    "\t\toptimizer.step()\n",
    "\n",
    "\t\t# statistics\n",
    "\t\trunning_loss += loss.item() * x_batch.size(0)\n",
    "\t\tpredictions = tensorToWord(outputs)\n",
    "\t\trunning_corrects += batchLevenshteinDistance(predictions, label_text)\n",
    "\t\ttraining_loss.append(loss.item())\n",
    "\n",
    "\tepoch_loss = running_loss / training_dataset_size\n",
    "\tepoch_acc = running_corrects / training_dataset_size\n",
    "\n",
    "\t# tensorboard logging\n",
    "\twriter.add_scalar(\"Loss/train\", epoch_loss, epoch)\n",
    "\n",
    "\tprint('Training step => Loss: {:.4f} | Dist: {:.4f}'.format(\n",
    "\t\tepoch_loss, epoch_acc\n",
    "\t))\n",
    "\n",
    "\tscheduler.step()\n",
    "\n",
    "\n",
    "\t########### Validation step ###########\n",
    "\tmodel = model.eval()\n",
    "\tvalidation_loss = []\n",
    "\trunning_loss = 0.0\n",
    "\trunning_corrects = 0\n",
    "\n",
    "\tfor i, data in enumerate(validation_loader):\n",
    "\t\twith torch.no_grad():\n",
    "\t\t\tx_batch, (label_batch, label_length, label_text) = data\n",
    "\t\t\tx_batch, label_batch, label_length = x_batch.to(device), label_batch.to(device), label_length.to(device)\n",
    "\n",
    "\t\t\toutputs = model(x_batch)\n",
    "\t\t\toutputs_permuted = outputs.permute((1, 0, 2))\n",
    "\t\t\tloss = loss_criterion(outputs_permuted, label_batch, torch.full((BATCH_SIZE,), OUTPUT_SEQUENCE_LENGTH).to(device), label_length)\n",
    "\n",
    "\t\t\trunning_loss += loss.item() * x_batch.size(0)\n",
    "\t\t\t\n",
    "\t\t\tpredictions = tensorToWord(outputs)\n",
    "\t\t\trunning_corrects += batchLevenshteinDistance(predictions, label_text)\n",
    "\t\t\tvalidation_loss.append(loss.item())\n",
    "\t\t\t\n",
    "\tepoch_loss = running_loss / validation_dataset_size\n",
    "\tepoch_acc = running_corrects / validation_dataset_size\n",
    "\n",
    "\t# tensorboard logging\n",
    "\twriter.add_scalar(\"Loss/validation\", epoch_loss, epoch)\n",
    "\n",
    "\tprint('Evaluation step => Loss: {:.4f} | Dist {:.4f}'.format(\n",
    "\t\tepoch_loss, epoch_acc\n",
    "\t))\n",
    "\tbest_acc = 0\n",
    "\t#Save the best model based on accuracy\n",
    "\tif True:\n",
    "\t\tbest_model_wts = copy.deepcopy(model.state_dict())\n",
    "\n",
    "\t#Checkpoint\n",
    "\ttorch.save({\n",
    "\t\t\"epoch\": epoch,\n",
    "\t\t\"model_state_dict\": model.state_dict(),\n",
    "\t\t\"optimizer_state_dict\": optimizer.state_dict()\n",
    "\t}, \"./checkpoints/ckp.pt\")\n",
    "\n",
    "\n",
    "\n",
    "time_elapsed = time.time() - since\n",
    "print('Training complete in {:.0f}m {:.0f}s'.format(\n",
    "\ttime_elapsed // 60, time_elapsed % 60\n",
    "))\n",
    "print('Best (so far) validation Acc: {:4f}'.format(best_acc))\n",
    "\n",
    "print('-' * 10)\n",
    "print('### Final results ###\\n')\n",
    "print('Best validation Acc: {:4f}'.format(best_acc))"
   ]
  },
  {
   "cell_type": "code",
   "execution_count": null,
   "metadata": {},
   "outputs": [],
   "source": []
  },
  {
   "cell_type": "code",
   "execution_count": null,
   "metadata": {},
   "outputs": [],
   "source": []
  }
 ],
 "metadata": {
  "kernelspec": {
   "name": "python3",
   "display_name": "Python 3.7.9 64-bit ('torch': conda)",
   "metadata": {
    "interpreter": {
     "hash": "97c67d8e0382c833d1d7ff2aaf3d36bcbf66720dd18abf32e81be90b4a114af6"
    }
   }
  },
  "language_info": {
   "name": "",
   "version": "3.7.9-final"
  }
 },
 "nbformat": 4,
 "nbformat_minor": 4
}